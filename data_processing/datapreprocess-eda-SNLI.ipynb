{
 "cells": [
  {
   "cell_type": "markdown",
   "metadata": {},
   "source": [
    "## Import Necessary Packages"
   ]
  },
  {
   "cell_type": "code",
   "execution_count": 1,
   "metadata": {
    "execution": {
     "iopub.execute_input": "2021-12-18T16:00:46.153514Z",
     "iopub.status.busy": "2021-12-18T16:00:46.153116Z",
     "iopub.status.idle": "2021-12-18T16:01:00.783123Z",
     "shell.execute_reply": "2021-12-18T16:01:00.782234Z",
     "shell.execute_reply.started": "2021-12-18T16:00:46.153440Z"
    }
   },
   "outputs": [
    {
     "name": "stdout",
     "output_type": "stream",
     "text": [
      "Requirement already satisfied: transformers in /opt/conda/lib/python3.7/site-packages (4.12.5)\n",
      "Requirement already satisfied: tokenizers<0.11,>=0.10.1 in /opt/conda/lib/python3.7/site-packages (from transformers) (0.10.3)\n",
      "Requirement already satisfied: huggingface-hub<1.0,>=0.1.0 in /opt/conda/lib/python3.7/site-packages (from transformers) (0.1.2)\n",
      "Requirement already satisfied: requests in /opt/conda/lib/python3.7/site-packages (from transformers) (2.25.1)\n",
      "Requirement already satisfied: regex!=2019.12.17 in /opt/conda/lib/python3.7/site-packages (from transformers) (2021.11.10)\n",
      "Requirement already satisfied: filelock in /opt/conda/lib/python3.7/site-packages (from transformers) (3.3.2)\n",
      "Requirement already satisfied: importlib-metadata in /opt/conda/lib/python3.7/site-packages (from transformers) (4.8.2)\n",
      "Requirement already satisfied: sacremoses in /opt/conda/lib/python3.7/site-packages (from transformers) (0.0.46)\n",
      "Requirement already satisfied: tqdm>=4.27 in /opt/conda/lib/python3.7/site-packages (from transformers) (4.62.3)\n",
      "Requirement already satisfied: packaging>=20.0 in /opt/conda/lib/python3.7/site-packages (from transformers) (21.0)\n",
      "Requirement already satisfied: numpy>=1.17 in /opt/conda/lib/python3.7/site-packages (from transformers) (1.19.5)\n",
      "Requirement already satisfied: pyyaml>=5.1 in /opt/conda/lib/python3.7/site-packages (from transformers) (6.0)\n",
      "Requirement already satisfied: typing-extensions>=3.7.4.3 in /opt/conda/lib/python3.7/site-packages (from huggingface-hub<1.0,>=0.1.0->transformers) (3.10.0.2)\n",
      "Requirement already satisfied: pyparsing>=2.0.2 in /opt/conda/lib/python3.7/site-packages (from packaging>=20.0->transformers) (3.0.6)\n",
      "Requirement already satisfied: zipp>=0.5 in /opt/conda/lib/python3.7/site-packages (from importlib-metadata->transformers) (3.6.0)\n",
      "Requirement already satisfied: idna<3,>=2.5 in /opt/conda/lib/python3.7/site-packages (from requests->transformers) (2.10)\n",
      "Requirement already satisfied: certifi>=2017.4.17 in /opt/conda/lib/python3.7/site-packages (from requests->transformers) (2021.10.8)\n",
      "Requirement already satisfied: urllib3<1.27,>=1.21.1 in /opt/conda/lib/python3.7/site-packages (from requests->transformers) (1.26.7)\n",
      "Requirement already satisfied: chardet<5,>=3.0.2 in /opt/conda/lib/python3.7/site-packages (from requests->transformers) (4.0.0)\n",
      "Requirement already satisfied: joblib in /opt/conda/lib/python3.7/site-packages (from sacremoses->transformers) (1.1.0)\n",
      "Requirement already satisfied: six in /opt/conda/lib/python3.7/site-packages (from sacremoses->transformers) (1.16.0)\n",
      "Requirement already satisfied: click in /opt/conda/lib/python3.7/site-packages (from sacremoses->transformers) (8.0.3)\n",
      "\u001b[33mWARNING: Running pip as the 'root' user can result in broken permissions and conflicting behaviour with the system package manager. It is recommended to use a virtual environment instead: https://pip.pypa.io/warnings/venv\u001b[0m\n",
      "Requirement already satisfied: sentencepiece in /opt/conda/lib/python3.7/site-packages (0.1.96)\n",
      "\u001b[33mWARNING: Running pip as the 'root' user can result in broken permissions and conflicting behaviour with the system package manager. It is recommended to use a virtual environment instead: https://pip.pypa.io/warnings/venv\u001b[0m\n"
     ]
    }
   ],
   "source": [
    "!pip install transformers\n",
    "!pip install sentencepiece"
   ]
  },
  {
   "cell_type": "code",
   "execution_count": 2,
   "metadata": {
    "execution": {
     "iopub.execute_input": "2021-12-18T16:01:04.157005Z",
     "iopub.status.busy": "2021-12-18T16:01:04.156724Z",
     "iopub.status.idle": "2021-12-18T16:01:04.664980Z",
     "shell.execute_reply": "2021-12-18T16:01:04.664258Z",
     "shell.execute_reply.started": "2021-12-18T16:01:04.156966Z"
    }
   },
   "outputs": [],
   "source": [
    "import pandas as pd\n",
    "import re\n",
    "import torch\n",
    "from torch.utils.data import Dataset, TensorDataset, DataLoader, SequentialSampler, RandomSampler\n",
    "from torch.nn.utils.rnn import pad_sequence\n",
    "# from keras.preprocessing.sequence import pad_sequences\n",
    "import pickle\n",
    "import os\n",
    "import numpy as np"
   ]
  },
  {
   "cell_type": "code",
   "execution_count": 3,
   "metadata": {
    "execution": {
     "iopub.execute_input": "2021-12-18T16:01:08.694805Z",
     "iopub.status.busy": "2021-12-18T16:01:08.694348Z",
     "iopub.status.idle": "2021-12-18T16:01:10.710637Z",
     "shell.execute_reply": "2021-12-18T16:01:10.709905Z",
     "shell.execute_reply.started": "2021-12-18T16:01:08.694770Z"
    }
   },
   "outputs": [],
   "source": [
    "from sklearn.preprocessing import LabelEncoder\n",
    "from sklearn.pipeline import FeatureUnion\n",
    "from sklearn.feature_extraction.text import CountVectorizer, TfidfVectorizer\n",
    "from keras.callbacks import Callback\n",
    "import tensorflow_hub as hub\n",
    "import tensorflow as tf\n",
    "import re\n",
    "\n",
    "from keras import backend as K\n",
    "import keras.layers as layers\n",
    "from keras.preprocessing.text import Tokenizer\n",
    "from keras.preprocessing.sequence import pad_sequences\n",
    "from keras.layers import Input, Dropout, Dense, concatenate, Embedding, Flatten, Activation, SpatialDropout1D\n",
    "from keras.layers import Bidirectional, GRU, GlobalAveragePooling1D, GlobalMaxPooling1D\n",
    "#from keras.optimizers import Adam\n",
    "from keras.models import Model\n",
    "from keras.utils import np_utils\n",
    "#from keras.engine import Layer\n",
    "from keras import initializers, regularizers, constraints\n",
    "from keras.layers import *\n",
    "\n",
    "from keras.preprocessing import sequence\n",
    "from keras.models import Sequential\n",
    "from keras.models import load_model\n",
    "from keras.layers import LSTM, CuDNNGRU, CuDNNLSTM, Add, Reshape\n",
    "from keras.layers import MaxPooling1D, Conv1D, MaxPooling1D, Conv2D, MaxPooling2D\n",
    "from keras.callbacks import EarlyStopping, ModelCheckpoint, ReduceLROnPlateau\n",
    "from nltk.tokenize import sent_tokenize, word_tokenize"
   ]
  },
  {
   "cell_type": "code",
   "execution_count": 4,
   "metadata": {
    "execution": {
     "iopub.execute_input": "2021-12-18T16:01:13.751163Z",
     "iopub.status.busy": "2021-12-18T16:01:13.750909Z",
     "iopub.status.idle": "2021-12-18T16:01:13.764316Z",
     "shell.execute_reply": "2021-12-18T16:01:13.763574Z",
     "shell.execute_reply.started": "2021-12-18T16:01:13.751134Z"
    }
   },
   "outputs": [
    {
     "name": "stdout",
     "output_type": "stream",
     "text": [
      "cuda:0\n"
     ]
    }
   ],
   "source": [
    "device = torch.device(\"cuda:0\" if torch.cuda.is_available() else \"cpu\")\n",
    "print(device)"
   ]
  },
  {
   "cell_type": "markdown",
   "metadata": {},
   "source": [
    "## Import Original Dataset"
   ]
  },
  {
   "cell_type": "code",
   "execution_count": 5,
   "metadata": {
    "execution": {
     "iopub.execute_input": "2021-12-18T16:01:16.081600Z",
     "iopub.status.busy": "2021-12-18T16:01:16.081103Z",
     "iopub.status.idle": "2021-12-18T16:01:20.455525Z",
     "shell.execute_reply": "2021-12-18T16:01:20.454769Z",
     "shell.execute_reply.started": "2021-12-18T16:01:16.081553Z"
    }
   },
   "outputs": [],
   "source": [
    "train_data = pd.read_csv('../input/stanford-natural-language-inference-corpus/snli_1.0_train.csv')\n",
    "val_data   = pd.read_csv('../input/stanford-natural-language-inference-corpus/snli_1.0_dev.csv')\n",
    "test_data = pd.read_csv('../input/stanford-natural-language-inference-corpus/snli_1.0_test.csv')"
   ]
  },
  {
   "cell_type": "code",
   "execution_count": 6,
   "metadata": {
    "execution": {
     "iopub.execute_input": "2021-12-18T16:01:22.813880Z",
     "iopub.status.busy": "2021-12-18T16:01:22.813593Z",
     "iopub.status.idle": "2021-12-18T16:01:22.849658Z",
     "shell.execute_reply": "2021-12-18T16:01:22.848412Z",
     "shell.execute_reply.started": "2021-12-18T16:01:22.813849Z"
    }
   },
   "outputs": [
    {
     "data": {
      "text/html": [
       "<div>\n",
       "<style scoped>\n",
       "    .dataframe tbody tr th:only-of-type {\n",
       "        vertical-align: middle;\n",
       "    }\n",
       "\n",
       "    .dataframe tbody tr th {\n",
       "        vertical-align: top;\n",
       "    }\n",
       "\n",
       "    .dataframe thead th {\n",
       "        text-align: right;\n",
       "    }\n",
       "</style>\n",
       "<table border=\"1\" class=\"dataframe\">\n",
       "  <thead>\n",
       "    <tr style=\"text-align: right;\">\n",
       "      <th></th>\n",
       "      <th>gold_label</th>\n",
       "      <th>sentence1_binary_parse</th>\n",
       "      <th>sentence2_binary_parse</th>\n",
       "      <th>sentence1_parse</th>\n",
       "      <th>sentence2_parse</th>\n",
       "      <th>sentence1</th>\n",
       "      <th>sentence2</th>\n",
       "      <th>captionID</th>\n",
       "      <th>pairID</th>\n",
       "      <th>label1</th>\n",
       "      <th>label2</th>\n",
       "      <th>label3</th>\n",
       "      <th>label4</th>\n",
       "      <th>label5</th>\n",
       "    </tr>\n",
       "  </thead>\n",
       "  <tbody>\n",
       "    <tr>\n",
       "      <th>0</th>\n",
       "      <td>neutral</td>\n",
       "      <td>( ( ( A person ) ( on ( a horse ) ) ) ( ( jump...</td>\n",
       "      <td>( ( A person ) ( ( is ( ( training ( his horse...</td>\n",
       "      <td>(ROOT (S (NP (NP (DT A) (NN person)) (PP (IN o...</td>\n",
       "      <td>(ROOT (S (NP (DT A) (NN person)) (VP (VBZ is) ...</td>\n",
       "      <td>A person on a horse jumps over a broken down a...</td>\n",
       "      <td>A person is training his horse for a competition.</td>\n",
       "      <td>3416050480.jpg#4</td>\n",
       "      <td>3416050480.jpg#4r1n</td>\n",
       "      <td>neutral</td>\n",
       "      <td>NaN</td>\n",
       "      <td>NaN</td>\n",
       "      <td>NaN</td>\n",
       "      <td>NaN</td>\n",
       "    </tr>\n",
       "    <tr>\n",
       "      <th>1</th>\n",
       "      <td>contradiction</td>\n",
       "      <td>( ( ( A person ) ( on ( a horse ) ) ) ( ( jump...</td>\n",
       "      <td>( ( A person ) ( ( ( ( is ( at ( a diner ) ) )...</td>\n",
       "      <td>(ROOT (S (NP (NP (DT A) (NN person)) (PP (IN o...</td>\n",
       "      <td>(ROOT (S (NP (DT A) (NN person)) (VP (VBZ is) ...</td>\n",
       "      <td>A person on a horse jumps over a broken down a...</td>\n",
       "      <td>A person is at a diner, ordering an omelette.</td>\n",
       "      <td>3416050480.jpg#4</td>\n",
       "      <td>3416050480.jpg#4r1c</td>\n",
       "      <td>contradiction</td>\n",
       "      <td>NaN</td>\n",
       "      <td>NaN</td>\n",
       "      <td>NaN</td>\n",
       "      <td>NaN</td>\n",
       "    </tr>\n",
       "    <tr>\n",
       "      <th>2</th>\n",
       "      <td>entailment</td>\n",
       "      <td>( ( ( A person ) ( on ( a horse ) ) ) ( ( jump...</td>\n",
       "      <td>( ( A person ) ( ( ( ( is outdoors ) , ) ( on ...</td>\n",
       "      <td>(ROOT (S (NP (NP (DT A) (NN person)) (PP (IN o...</td>\n",
       "      <td>(ROOT (S (NP (DT A) (NN person)) (VP (VBZ is) ...</td>\n",
       "      <td>A person on a horse jumps over a broken down a...</td>\n",
       "      <td>A person is outdoors, on a horse.</td>\n",
       "      <td>3416050480.jpg#4</td>\n",
       "      <td>3416050480.jpg#4r1e</td>\n",
       "      <td>entailment</td>\n",
       "      <td>NaN</td>\n",
       "      <td>NaN</td>\n",
       "      <td>NaN</td>\n",
       "      <td>NaN</td>\n",
       "    </tr>\n",
       "    <tr>\n",
       "      <th>3</th>\n",
       "      <td>neutral</td>\n",
       "      <td>( Children ( ( ( smiling and ) waving ) ( at c...</td>\n",
       "      <td>( They ( are ( smiling ( at ( their parents ) ...</td>\n",
       "      <td>(ROOT (NP (S (NP (NNP Children)) (VP (VBG smil...</td>\n",
       "      <td>(ROOT (S (NP (PRP They)) (VP (VBP are) (VP (VB...</td>\n",
       "      <td>Children smiling and waving at camera</td>\n",
       "      <td>They are smiling at their parents</td>\n",
       "      <td>2267923837.jpg#2</td>\n",
       "      <td>2267923837.jpg#2r1n</td>\n",
       "      <td>neutral</td>\n",
       "      <td>NaN</td>\n",
       "      <td>NaN</td>\n",
       "      <td>NaN</td>\n",
       "      <td>NaN</td>\n",
       "    </tr>\n",
       "    <tr>\n",
       "      <th>4</th>\n",
       "      <td>entailment</td>\n",
       "      <td>( Children ( ( ( smiling and ) waving ) ( at c...</td>\n",
       "      <td>( There ( ( are children ) present ) )</td>\n",
       "      <td>(ROOT (NP (S (NP (NNP Children)) (VP (VBG smil...</td>\n",
       "      <td>(ROOT (S (NP (EX There)) (VP (VBP are) (NP (NN...</td>\n",
       "      <td>Children smiling and waving at camera</td>\n",
       "      <td>There are children present</td>\n",
       "      <td>2267923837.jpg#2</td>\n",
       "      <td>2267923837.jpg#2r1e</td>\n",
       "      <td>entailment</td>\n",
       "      <td>NaN</td>\n",
       "      <td>NaN</td>\n",
       "      <td>NaN</td>\n",
       "      <td>NaN</td>\n",
       "    </tr>\n",
       "    <tr>\n",
       "      <th>...</th>\n",
       "      <td>...</td>\n",
       "      <td>...</td>\n",
       "      <td>...</td>\n",
       "      <td>...</td>\n",
       "      <td>...</td>\n",
       "      <td>...</td>\n",
       "      <td>...</td>\n",
       "      <td>...</td>\n",
       "      <td>...</td>\n",
       "      <td>...</td>\n",
       "      <td>...</td>\n",
       "      <td>...</td>\n",
       "      <td>...</td>\n",
       "      <td>...</td>\n",
       "    </tr>\n",
       "    <tr>\n",
       "      <th>550147</th>\n",
       "      <td>contradiction</td>\n",
       "      <td>( ( ( ( Four dirty ) and ) ( barefooted childr...</td>\n",
       "      <td>( ( four kids ) ( ( won awards ) ( ( ( for ` )...</td>\n",
       "      <td>(ROOT (NP (NP (CD Four) (NNS dirty)) (CC and) ...</td>\n",
       "      <td>(ROOT (S (NP (CD four) (NNS kids)) (VP (VBD wo...</td>\n",
       "      <td>Four dirty and barefooted children.</td>\n",
       "      <td>four kids won awards for 'cleanest feet'</td>\n",
       "      <td>2267923837.jpg#3</td>\n",
       "      <td>2267923837.jpg#3r1c</td>\n",
       "      <td>contradiction</td>\n",
       "      <td>NaN</td>\n",
       "      <td>NaN</td>\n",
       "      <td>NaN</td>\n",
       "      <td>NaN</td>\n",
       "    </tr>\n",
       "    <tr>\n",
       "      <th>550148</th>\n",
       "      <td>neutral</td>\n",
       "      <td>( ( ( ( Four dirty ) and ) ( barefooted childr...</td>\n",
       "      <td>( ( ( ( ( ( four ( homeless children ) ) ( had...</td>\n",
       "      <td>(ROOT (NP (NP (CD Four) (NNS dirty)) (CC and) ...</td>\n",
       "      <td>(ROOT (S (S (NP (CD four) (JJ homeless) (NNS c...</td>\n",
       "      <td>Four dirty and barefooted children.</td>\n",
       "      <td>four homeless children had their shoes stolen,...</td>\n",
       "      <td>2267923837.jpg#3</td>\n",
       "      <td>2267923837.jpg#3r1n</td>\n",
       "      <td>neutral</td>\n",
       "      <td>NaN</td>\n",
       "      <td>NaN</td>\n",
       "      <td>NaN</td>\n",
       "      <td>NaN</td>\n",
       "    </tr>\n",
       "    <tr>\n",
       "      <th>550149</th>\n",
       "      <td>neutral</td>\n",
       "      <td>( ( A man ) ( ( is ( surfing ( in ( ( a bodysu...</td>\n",
       "      <td>( ( ( A man ) ( in ( a bodysuit ) ) ) ( ( is (...</td>\n",
       "      <td>(ROOT (S (NP (DT A) (NN man)) (VP (VBZ is) (VP...</td>\n",
       "      <td>(ROOT (S (NP (NP (DT A) (NN man)) (PP (IN in) ...</td>\n",
       "      <td>A man is surfing in a bodysuit in beautiful bl...</td>\n",
       "      <td>A man in a bodysuit is competing in a surfing ...</td>\n",
       "      <td>7979219683.jpg#2</td>\n",
       "      <td>7979219683.jpg#2r1n</td>\n",
       "      <td>neutral</td>\n",
       "      <td>NaN</td>\n",
       "      <td>NaN</td>\n",
       "      <td>NaN</td>\n",
       "      <td>NaN</td>\n",
       "    </tr>\n",
       "    <tr>\n",
       "      <th>550150</th>\n",
       "      <td>contradiction</td>\n",
       "      <td>( ( A man ) ( ( is ( surfing ( in ( ( a bodysu...</td>\n",
       "      <td>( ( ( A man ) ( in ( a ( business suit ) ) ) )...</td>\n",
       "      <td>(ROOT (S (NP (DT A) (NN man)) (VP (VBZ is) (VP...</td>\n",
       "      <td>(ROOT (S (NP (NP (DT A) (NN man)) (PP (IN in) ...</td>\n",
       "      <td>A man is surfing in a bodysuit in beautiful bl...</td>\n",
       "      <td>A man in a business suit is heading to a board...</td>\n",
       "      <td>7979219683.jpg#2</td>\n",
       "      <td>7979219683.jpg#2r1c</td>\n",
       "      <td>contradiction</td>\n",
       "      <td>NaN</td>\n",
       "      <td>NaN</td>\n",
       "      <td>NaN</td>\n",
       "      <td>NaN</td>\n",
       "    </tr>\n",
       "    <tr>\n",
       "      <th>550151</th>\n",
       "      <td>entailment</td>\n",
       "      <td>( ( A man ) ( ( is ( surfing ( in ( ( a bodysu...</td>\n",
       "      <td>( ( On ( the ( beautiful ( blue water ) ) ) ) ...</td>\n",
       "      <td>(ROOT (S (NP (DT A) (NN man)) (VP (VBZ is) (VP...</td>\n",
       "      <td>(ROOT (S (PP (IN On) (NP (DT the) (JJ beautifu...</td>\n",
       "      <td>A man is surfing in a bodysuit in beautiful bl...</td>\n",
       "      <td>On the beautiful blue water there is a man in ...</td>\n",
       "      <td>7979219683.jpg#2</td>\n",
       "      <td>7979219683.jpg#2r1e</td>\n",
       "      <td>entailment</td>\n",
       "      <td>NaN</td>\n",
       "      <td>NaN</td>\n",
       "      <td>NaN</td>\n",
       "      <td>NaN</td>\n",
       "    </tr>\n",
       "  </tbody>\n",
       "</table>\n",
       "<p>550152 rows × 14 columns</p>\n",
       "</div>"
      ],
      "text/plain": [
       "           gold_label                             sentence1_binary_parse  \\\n",
       "0             neutral  ( ( ( A person ) ( on ( a horse ) ) ) ( ( jump...   \n",
       "1       contradiction  ( ( ( A person ) ( on ( a horse ) ) ) ( ( jump...   \n",
       "2          entailment  ( ( ( A person ) ( on ( a horse ) ) ) ( ( jump...   \n",
       "3             neutral  ( Children ( ( ( smiling and ) waving ) ( at c...   \n",
       "4          entailment  ( Children ( ( ( smiling and ) waving ) ( at c...   \n",
       "...               ...                                                ...   \n",
       "550147  contradiction  ( ( ( ( Four dirty ) and ) ( barefooted childr...   \n",
       "550148        neutral  ( ( ( ( Four dirty ) and ) ( barefooted childr...   \n",
       "550149        neutral  ( ( A man ) ( ( is ( surfing ( in ( ( a bodysu...   \n",
       "550150  contradiction  ( ( A man ) ( ( is ( surfing ( in ( ( a bodysu...   \n",
       "550151     entailment  ( ( A man ) ( ( is ( surfing ( in ( ( a bodysu...   \n",
       "\n",
       "                                   sentence2_binary_parse  \\\n",
       "0       ( ( A person ) ( ( is ( ( training ( his horse...   \n",
       "1       ( ( A person ) ( ( ( ( is ( at ( a diner ) ) )...   \n",
       "2       ( ( A person ) ( ( ( ( is outdoors ) , ) ( on ...   \n",
       "3       ( They ( are ( smiling ( at ( their parents ) ...   \n",
       "4                  ( There ( ( are children ) present ) )   \n",
       "...                                                   ...   \n",
       "550147  ( ( four kids ) ( ( won awards ) ( ( ( for ` )...   \n",
       "550148  ( ( ( ( ( ( four ( homeless children ) ) ( had...   \n",
       "550149  ( ( ( A man ) ( in ( a bodysuit ) ) ) ( ( is (...   \n",
       "550150  ( ( ( A man ) ( in ( a ( business suit ) ) ) )...   \n",
       "550151  ( ( On ( the ( beautiful ( blue water ) ) ) ) ...   \n",
       "\n",
       "                                          sentence1_parse  \\\n",
       "0       (ROOT (S (NP (NP (DT A) (NN person)) (PP (IN o...   \n",
       "1       (ROOT (S (NP (NP (DT A) (NN person)) (PP (IN o...   \n",
       "2       (ROOT (S (NP (NP (DT A) (NN person)) (PP (IN o...   \n",
       "3       (ROOT (NP (S (NP (NNP Children)) (VP (VBG smil...   \n",
       "4       (ROOT (NP (S (NP (NNP Children)) (VP (VBG smil...   \n",
       "...                                                   ...   \n",
       "550147  (ROOT (NP (NP (CD Four) (NNS dirty)) (CC and) ...   \n",
       "550148  (ROOT (NP (NP (CD Four) (NNS dirty)) (CC and) ...   \n",
       "550149  (ROOT (S (NP (DT A) (NN man)) (VP (VBZ is) (VP...   \n",
       "550150  (ROOT (S (NP (DT A) (NN man)) (VP (VBZ is) (VP...   \n",
       "550151  (ROOT (S (NP (DT A) (NN man)) (VP (VBZ is) (VP...   \n",
       "\n",
       "                                          sentence2_parse  \\\n",
       "0       (ROOT (S (NP (DT A) (NN person)) (VP (VBZ is) ...   \n",
       "1       (ROOT (S (NP (DT A) (NN person)) (VP (VBZ is) ...   \n",
       "2       (ROOT (S (NP (DT A) (NN person)) (VP (VBZ is) ...   \n",
       "3       (ROOT (S (NP (PRP They)) (VP (VBP are) (VP (VB...   \n",
       "4       (ROOT (S (NP (EX There)) (VP (VBP are) (NP (NN...   \n",
       "...                                                   ...   \n",
       "550147  (ROOT (S (NP (CD four) (NNS kids)) (VP (VBD wo...   \n",
       "550148  (ROOT (S (S (NP (CD four) (JJ homeless) (NNS c...   \n",
       "550149  (ROOT (S (NP (NP (DT A) (NN man)) (PP (IN in) ...   \n",
       "550150  (ROOT (S (NP (NP (DT A) (NN man)) (PP (IN in) ...   \n",
       "550151  (ROOT (S (PP (IN On) (NP (DT the) (JJ beautifu...   \n",
       "\n",
       "                                                sentence1  \\\n",
       "0       A person on a horse jumps over a broken down a...   \n",
       "1       A person on a horse jumps over a broken down a...   \n",
       "2       A person on a horse jumps over a broken down a...   \n",
       "3                   Children smiling and waving at camera   \n",
       "4                   Children smiling and waving at camera   \n",
       "...                                                   ...   \n",
       "550147                Four dirty and barefooted children.   \n",
       "550148                Four dirty and barefooted children.   \n",
       "550149  A man is surfing in a bodysuit in beautiful bl...   \n",
       "550150  A man is surfing in a bodysuit in beautiful bl...   \n",
       "550151  A man is surfing in a bodysuit in beautiful bl...   \n",
       "\n",
       "                                                sentence2         captionID  \\\n",
       "0       A person is training his horse for a competition.  3416050480.jpg#4   \n",
       "1           A person is at a diner, ordering an omelette.  3416050480.jpg#4   \n",
       "2                       A person is outdoors, on a horse.  3416050480.jpg#4   \n",
       "3                       They are smiling at their parents  2267923837.jpg#2   \n",
       "4                              There are children present  2267923837.jpg#2   \n",
       "...                                                   ...               ...   \n",
       "550147           four kids won awards for 'cleanest feet'  2267923837.jpg#3   \n",
       "550148  four homeless children had their shoes stolen,...  2267923837.jpg#3   \n",
       "550149  A man in a bodysuit is competing in a surfing ...  7979219683.jpg#2   \n",
       "550150  A man in a business suit is heading to a board...  7979219683.jpg#2   \n",
       "550151  On the beautiful blue water there is a man in ...  7979219683.jpg#2   \n",
       "\n",
       "                     pairID         label1 label2 label3 label4 label5  \n",
       "0       3416050480.jpg#4r1n        neutral    NaN    NaN    NaN    NaN  \n",
       "1       3416050480.jpg#4r1c  contradiction    NaN    NaN    NaN    NaN  \n",
       "2       3416050480.jpg#4r1e     entailment    NaN    NaN    NaN    NaN  \n",
       "3       2267923837.jpg#2r1n        neutral    NaN    NaN    NaN    NaN  \n",
       "4       2267923837.jpg#2r1e     entailment    NaN    NaN    NaN    NaN  \n",
       "...                     ...            ...    ...    ...    ...    ...  \n",
       "550147  2267923837.jpg#3r1c  contradiction    NaN    NaN    NaN    NaN  \n",
       "550148  2267923837.jpg#3r1n        neutral    NaN    NaN    NaN    NaN  \n",
       "550149  7979219683.jpg#2r1n        neutral    NaN    NaN    NaN    NaN  \n",
       "550150  7979219683.jpg#2r1c  contradiction    NaN    NaN    NaN    NaN  \n",
       "550151  7979219683.jpg#2r1e     entailment    NaN    NaN    NaN    NaN  \n",
       "\n",
       "[550152 rows x 14 columns]"
      ]
     },
     "execution_count": 6,
     "metadata": {},
     "output_type": "execute_result"
    }
   ],
   "source": [
    "train_data"
   ]
  },
  {
   "cell_type": "code",
   "execution_count": 7,
   "metadata": {
    "execution": {
     "iopub.execute_input": "2021-12-18T16:01:26.608314Z",
     "iopub.status.busy": "2021-12-18T16:01:26.608060Z",
     "iopub.status.idle": "2021-12-18T16:01:26.628831Z",
     "shell.execute_reply": "2021-12-18T16:01:26.627961Z",
     "shell.execute_reply.started": "2021-12-18T16:01:26.608285Z"
    }
   },
   "outputs": [
    {
     "data": {
      "text/html": [
       "<div>\n",
       "<style scoped>\n",
       "    .dataframe tbody tr th:only-of-type {\n",
       "        vertical-align: middle;\n",
       "    }\n",
       "\n",
       "    .dataframe tbody tr th {\n",
       "        vertical-align: top;\n",
       "    }\n",
       "\n",
       "    .dataframe thead th {\n",
       "        text-align: right;\n",
       "    }\n",
       "</style>\n",
       "<table border=\"1\" class=\"dataframe\">\n",
       "  <thead>\n",
       "    <tr style=\"text-align: right;\">\n",
       "      <th></th>\n",
       "      <th>gold_label</th>\n",
       "      <th>sentence1_binary_parse</th>\n",
       "      <th>sentence2_binary_parse</th>\n",
       "      <th>sentence1_parse</th>\n",
       "      <th>sentence2_parse</th>\n",
       "      <th>sentence1</th>\n",
       "      <th>sentence2</th>\n",
       "      <th>captionID</th>\n",
       "      <th>pairID</th>\n",
       "      <th>label1</th>\n",
       "      <th>label2</th>\n",
       "      <th>label3</th>\n",
       "      <th>label4</th>\n",
       "      <th>label5</th>\n",
       "    </tr>\n",
       "  </thead>\n",
       "  <tbody>\n",
       "    <tr>\n",
       "      <th>0</th>\n",
       "      <td>neutral</td>\n",
       "      <td>( ( Two women ) ( ( are ( embracing ( while ( ...</td>\n",
       "      <td>( ( The sisters ) ( ( are ( ( hugging goodbye ...</td>\n",
       "      <td>(ROOT (S (NP (CD Two) (NNS women)) (VP (VBP ar...</td>\n",
       "      <td>(ROOT (S (NP (DT The) (NNS sisters)) (VP (VBP ...</td>\n",
       "      <td>Two women are embracing while holding to go pa...</td>\n",
       "      <td>The sisters are hugging goodbye while holding ...</td>\n",
       "      <td>4705552913.jpg#2</td>\n",
       "      <td>4705552913.jpg#2r1n</td>\n",
       "      <td>neutral</td>\n",
       "      <td>entailment</td>\n",
       "      <td>neutral</td>\n",
       "      <td>neutral</td>\n",
       "      <td>neutral</td>\n",
       "    </tr>\n",
       "    <tr>\n",
       "      <th>1</th>\n",
       "      <td>entailment</td>\n",
       "      <td>( ( Two women ) ( ( are ( embracing ( while ( ...</td>\n",
       "      <td>( ( Two woman ) ( ( are ( holding packages ) )...</td>\n",
       "      <td>(ROOT (S (NP (CD Two) (NNS women)) (VP (VBP ar...</td>\n",
       "      <td>(ROOT (S (NP (CD Two) (NN woman)) (VP (VBP are...</td>\n",
       "      <td>Two women are embracing while holding to go pa...</td>\n",
       "      <td>Two woman are holding packages.</td>\n",
       "      <td>4705552913.jpg#2</td>\n",
       "      <td>4705552913.jpg#2r1e</td>\n",
       "      <td>entailment</td>\n",
       "      <td>entailment</td>\n",
       "      <td>entailment</td>\n",
       "      <td>entailment</td>\n",
       "      <td>entailment</td>\n",
       "    </tr>\n",
       "    <tr>\n",
       "      <th>2</th>\n",
       "      <td>contradiction</td>\n",
       "      <td>( ( Two women ) ( ( are ( embracing ( while ( ...</td>\n",
       "      <td>( ( The men ) ( ( are ( fighting ( outside ( a...</td>\n",
       "      <td>(ROOT (S (NP (CD Two) (NNS women)) (VP (VBP ar...</td>\n",
       "      <td>(ROOT (S (NP (DT The) (NNS men)) (VP (VBP are)...</td>\n",
       "      <td>Two women are embracing while holding to go pa...</td>\n",
       "      <td>The men are fighting outside a deli.</td>\n",
       "      <td>4705552913.jpg#2</td>\n",
       "      <td>4705552913.jpg#2r1c</td>\n",
       "      <td>contradiction</td>\n",
       "      <td>contradiction</td>\n",
       "      <td>contradiction</td>\n",
       "      <td>contradiction</td>\n",
       "      <td>contradiction</td>\n",
       "    </tr>\n",
       "    <tr>\n",
       "      <th>3</th>\n",
       "      <td>entailment</td>\n",
       "      <td>( ( ( Two ( young children ) ) ( in ( ( ( ( ( ...</td>\n",
       "      <td>( ( ( Two kids ) ( in ( numbered jerseys ) ) )...</td>\n",
       "      <td>(ROOT (S (NP (NP (CD Two) (JJ young) (NNS chil...</td>\n",
       "      <td>(ROOT (S (NP (NP (CD Two) (NNS kids)) (PP (IN ...</td>\n",
       "      <td>Two young children in blue jerseys, one with t...</td>\n",
       "      <td>Two kids in numbered jerseys wash their hands.</td>\n",
       "      <td>2407214681.jpg#0</td>\n",
       "      <td>2407214681.jpg#0r1e</td>\n",
       "      <td>entailment</td>\n",
       "      <td>entailment</td>\n",
       "      <td>entailment</td>\n",
       "      <td>entailment</td>\n",
       "      <td>entailment</td>\n",
       "    </tr>\n",
       "    <tr>\n",
       "      <th>4</th>\n",
       "      <td>neutral</td>\n",
       "      <td>( ( ( Two ( young children ) ) ( in ( ( ( ( ( ...</td>\n",
       "      <td>( ( ( Two kids ) ( at ( a ballgame ) ) ) ( ( w...</td>\n",
       "      <td>(ROOT (S (NP (NP (CD Two) (JJ young) (NNS chil...</td>\n",
       "      <td>(ROOT (S (NP (NP (CD Two) (NNS kids)) (PP (IN ...</td>\n",
       "      <td>Two young children in blue jerseys, one with t...</td>\n",
       "      <td>Two kids at a ballgame wash their hands.</td>\n",
       "      <td>2407214681.jpg#0</td>\n",
       "      <td>2407214681.jpg#0r1n</td>\n",
       "      <td>neutral</td>\n",
       "      <td>neutral</td>\n",
       "      <td>neutral</td>\n",
       "      <td>entailment</td>\n",
       "      <td>entailment</td>\n",
       "    </tr>\n",
       "    <tr>\n",
       "      <th>...</th>\n",
       "      <td>...</td>\n",
       "      <td>...</td>\n",
       "      <td>...</td>\n",
       "      <td>...</td>\n",
       "      <td>...</td>\n",
       "      <td>...</td>\n",
       "      <td>...</td>\n",
       "      <td>...</td>\n",
       "      <td>...</td>\n",
       "      <td>...</td>\n",
       "      <td>...</td>\n",
       "      <td>...</td>\n",
       "      <td>...</td>\n",
       "      <td>...</td>\n",
       "    </tr>\n",
       "    <tr>\n",
       "      <th>9995</th>\n",
       "      <td>-</td>\n",
       "      <td>( ( ( A ( small girl ) ) ( wearing ( a ( pink ...</td>\n",
       "      <td>( ( The girl ) ( ( is ( sitting ( on ( ( a ( c...</td>\n",
       "      <td>(ROOT (S (NP (NP (DT A) (JJ small) (NN girl)) ...</td>\n",
       "      <td>(ROOT (S (NP (DT The) (NN girl)) (VP (VBZ is) ...</td>\n",
       "      <td>A small girl wearing a pink jacket is riding o...</td>\n",
       "      <td>The girl is sitting on a carved horse made of ...</td>\n",
       "      <td>77063034.jpg#3</td>\n",
       "      <td>77063034.jpg#3r1n</td>\n",
       "      <td>neutral</td>\n",
       "      <td>contradiction</td>\n",
       "      <td>entailment</td>\n",
       "      <td>contradiction</td>\n",
       "      <td>NaN</td>\n",
       "    </tr>\n",
       "    <tr>\n",
       "      <th>9996</th>\n",
       "      <td>contradiction</td>\n",
       "      <td>( ( ( A ( small girl ) ) ( wearing ( a ( pink ...</td>\n",
       "      <td>( ( The girl ) ( ( is ( moving ( at ( ( the sp...</td>\n",
       "      <td>(ROOT (S (NP (NP (DT A) (JJ small) (NN girl)) ...</td>\n",
       "      <td>(ROOT (S (NP (DT The) (NN girl)) (VP (VBZ is) ...</td>\n",
       "      <td>A small girl wearing a pink jacket is riding o...</td>\n",
       "      <td>The girl is moving at the speed of light.</td>\n",
       "      <td>77063034.jpg#3</td>\n",
       "      <td>77063034.jpg#3r1c</td>\n",
       "      <td>contradiction</td>\n",
       "      <td>contradiction</td>\n",
       "      <td>contradiction</td>\n",
       "      <td>contradiction</td>\n",
       "      <td>contradiction</td>\n",
       "    </tr>\n",
       "    <tr>\n",
       "      <th>9997</th>\n",
       "      <td>entailment</td>\n",
       "      <td>( ( ( A ( young girl ) ) ( with ( ( ( ( ( ( bl...</td>\n",
       "      <td>( People ( in ( a ( water fountain ) ) ) )</td>\n",
       "      <td>(ROOT (NP (NP (DT A) (JJ young) (NN girl)) (PP...</td>\n",
       "      <td>(ROOT (NP (NP (NNS People)) (PP (IN in) (NP (D...</td>\n",
       "      <td>A young girl with blue and pink ribbons in her...</td>\n",
       "      <td>People in a water fountain</td>\n",
       "      <td>4805835848.jpg#0</td>\n",
       "      <td>4805835848.jpg#0r1e</td>\n",
       "      <td>entailment</td>\n",
       "      <td>entailment</td>\n",
       "      <td>entailment</td>\n",
       "      <td>entailment</td>\n",
       "      <td>entailment</td>\n",
       "    </tr>\n",
       "    <tr>\n",
       "      <th>9998</th>\n",
       "      <td>contradiction</td>\n",
       "      <td>( ( ( A ( young girl ) ) ( with ( ( ( ( ( ( bl...</td>\n",
       "      <td>( ( ( A ( young girl ) ) knits ) ( a sweater ) )</td>\n",
       "      <td>(ROOT (NP (NP (DT A) (JJ young) (NN girl)) (PP...</td>\n",
       "      <td>(ROOT (NP (NP (DT A) (JJ young) (NN girl)) (NP...</td>\n",
       "      <td>A young girl with blue and pink ribbons in her...</td>\n",
       "      <td>A young girl knits a sweater</td>\n",
       "      <td>4805835848.jpg#0</td>\n",
       "      <td>4805835848.jpg#0r1c</td>\n",
       "      <td>contradiction</td>\n",
       "      <td>contradiction</td>\n",
       "      <td>entailment</td>\n",
       "      <td>contradiction</td>\n",
       "      <td>neutral</td>\n",
       "    </tr>\n",
       "    <tr>\n",
       "      <th>9999</th>\n",
       "      <td>neutral</td>\n",
       "      <td>( ( ( A ( young girl ) ) ( with ( ( ( ( ( ( bl...</td>\n",
       "      <td>( ( A ( young mother ) ) ( tries ( to ( ( ( gr...</td>\n",
       "      <td>(ROOT (NP (NP (DT A) (JJ young) (NN girl)) (PP...</td>\n",
       "      <td>(ROOT (S (NP (DT A) (JJ young) (NN mother)) (V...</td>\n",
       "      <td>A young girl with blue and pink ribbons in her...</td>\n",
       "      <td>A young mother tries to grab her topless child...</td>\n",
       "      <td>4805835848.jpg#0</td>\n",
       "      <td>4805835848.jpg#0r1n</td>\n",
       "      <td>neutral</td>\n",
       "      <td>contradiction</td>\n",
       "      <td>neutral</td>\n",
       "      <td>neutral</td>\n",
       "      <td>entailment</td>\n",
       "    </tr>\n",
       "  </tbody>\n",
       "</table>\n",
       "<p>10000 rows × 14 columns</p>\n",
       "</div>"
      ],
      "text/plain": [
       "         gold_label                             sentence1_binary_parse  \\\n",
       "0           neutral  ( ( Two women ) ( ( are ( embracing ( while ( ...   \n",
       "1        entailment  ( ( Two women ) ( ( are ( embracing ( while ( ...   \n",
       "2     contradiction  ( ( Two women ) ( ( are ( embracing ( while ( ...   \n",
       "3        entailment  ( ( ( Two ( young children ) ) ( in ( ( ( ( ( ...   \n",
       "4           neutral  ( ( ( Two ( young children ) ) ( in ( ( ( ( ( ...   \n",
       "...             ...                                                ...   \n",
       "9995              -  ( ( ( A ( small girl ) ) ( wearing ( a ( pink ...   \n",
       "9996  contradiction  ( ( ( A ( small girl ) ) ( wearing ( a ( pink ...   \n",
       "9997     entailment  ( ( ( A ( young girl ) ) ( with ( ( ( ( ( ( bl...   \n",
       "9998  contradiction  ( ( ( A ( young girl ) ) ( with ( ( ( ( ( ( bl...   \n",
       "9999        neutral  ( ( ( A ( young girl ) ) ( with ( ( ( ( ( ( bl...   \n",
       "\n",
       "                                 sentence2_binary_parse  \\\n",
       "0     ( ( The sisters ) ( ( are ( ( hugging goodbye ...   \n",
       "1     ( ( Two woman ) ( ( are ( holding packages ) )...   \n",
       "2     ( ( The men ) ( ( are ( fighting ( outside ( a...   \n",
       "3     ( ( ( Two kids ) ( in ( numbered jerseys ) ) )...   \n",
       "4     ( ( ( Two kids ) ( at ( a ballgame ) ) ) ( ( w...   \n",
       "...                                                 ...   \n",
       "9995  ( ( The girl ) ( ( is ( sitting ( on ( ( a ( c...   \n",
       "9996  ( ( The girl ) ( ( is ( moving ( at ( ( the sp...   \n",
       "9997         ( People ( in ( a ( water fountain ) ) ) )   \n",
       "9998   ( ( ( A ( young girl ) ) knits ) ( a sweater ) )   \n",
       "9999  ( ( A ( young mother ) ) ( tries ( to ( ( ( gr...   \n",
       "\n",
       "                                        sentence1_parse  \\\n",
       "0     (ROOT (S (NP (CD Two) (NNS women)) (VP (VBP ar...   \n",
       "1     (ROOT (S (NP (CD Two) (NNS women)) (VP (VBP ar...   \n",
       "2     (ROOT (S (NP (CD Two) (NNS women)) (VP (VBP ar...   \n",
       "3     (ROOT (S (NP (NP (CD Two) (JJ young) (NNS chil...   \n",
       "4     (ROOT (S (NP (NP (CD Two) (JJ young) (NNS chil...   \n",
       "...                                                 ...   \n",
       "9995  (ROOT (S (NP (NP (DT A) (JJ small) (NN girl)) ...   \n",
       "9996  (ROOT (S (NP (NP (DT A) (JJ small) (NN girl)) ...   \n",
       "9997  (ROOT (NP (NP (DT A) (JJ young) (NN girl)) (PP...   \n",
       "9998  (ROOT (NP (NP (DT A) (JJ young) (NN girl)) (PP...   \n",
       "9999  (ROOT (NP (NP (DT A) (JJ young) (NN girl)) (PP...   \n",
       "\n",
       "                                        sentence2_parse  \\\n",
       "0     (ROOT (S (NP (DT The) (NNS sisters)) (VP (VBP ...   \n",
       "1     (ROOT (S (NP (CD Two) (NN woman)) (VP (VBP are...   \n",
       "2     (ROOT (S (NP (DT The) (NNS men)) (VP (VBP are)...   \n",
       "3     (ROOT (S (NP (NP (CD Two) (NNS kids)) (PP (IN ...   \n",
       "4     (ROOT (S (NP (NP (CD Two) (NNS kids)) (PP (IN ...   \n",
       "...                                                 ...   \n",
       "9995  (ROOT (S (NP (DT The) (NN girl)) (VP (VBZ is) ...   \n",
       "9996  (ROOT (S (NP (DT The) (NN girl)) (VP (VBZ is) ...   \n",
       "9997  (ROOT (NP (NP (NNS People)) (PP (IN in) (NP (D...   \n",
       "9998  (ROOT (NP (NP (DT A) (JJ young) (NN girl)) (NP...   \n",
       "9999  (ROOT (S (NP (DT A) (JJ young) (NN mother)) (V...   \n",
       "\n",
       "                                              sentence1  \\\n",
       "0     Two women are embracing while holding to go pa...   \n",
       "1     Two women are embracing while holding to go pa...   \n",
       "2     Two women are embracing while holding to go pa...   \n",
       "3     Two young children in blue jerseys, one with t...   \n",
       "4     Two young children in blue jerseys, one with t...   \n",
       "...                                                 ...   \n",
       "9995  A small girl wearing a pink jacket is riding o...   \n",
       "9996  A small girl wearing a pink jacket is riding o...   \n",
       "9997  A young girl with blue and pink ribbons in her...   \n",
       "9998  A young girl with blue and pink ribbons in her...   \n",
       "9999  A young girl with blue and pink ribbons in her...   \n",
       "\n",
       "                                              sentence2         captionID  \\\n",
       "0     The sisters are hugging goodbye while holding ...  4705552913.jpg#2   \n",
       "1                       Two woman are holding packages.  4705552913.jpg#2   \n",
       "2                  The men are fighting outside a deli.  4705552913.jpg#2   \n",
       "3        Two kids in numbered jerseys wash their hands.  2407214681.jpg#0   \n",
       "4              Two kids at a ballgame wash their hands.  2407214681.jpg#0   \n",
       "...                                                 ...               ...   \n",
       "9995  The girl is sitting on a carved horse made of ...    77063034.jpg#3   \n",
       "9996          The girl is moving at the speed of light.    77063034.jpg#3   \n",
       "9997                         People in a water fountain  4805835848.jpg#0   \n",
       "9998                       A young girl knits a sweater  4805835848.jpg#0   \n",
       "9999  A young mother tries to grab her topless child...  4805835848.jpg#0   \n",
       "\n",
       "                   pairID         label1         label2         label3  \\\n",
       "0     4705552913.jpg#2r1n        neutral     entailment        neutral   \n",
       "1     4705552913.jpg#2r1e     entailment     entailment     entailment   \n",
       "2     4705552913.jpg#2r1c  contradiction  contradiction  contradiction   \n",
       "3     2407214681.jpg#0r1e     entailment     entailment     entailment   \n",
       "4     2407214681.jpg#0r1n        neutral        neutral        neutral   \n",
       "...                   ...            ...            ...            ...   \n",
       "9995    77063034.jpg#3r1n        neutral  contradiction     entailment   \n",
       "9996    77063034.jpg#3r1c  contradiction  contradiction  contradiction   \n",
       "9997  4805835848.jpg#0r1e     entailment     entailment     entailment   \n",
       "9998  4805835848.jpg#0r1c  contradiction  contradiction     entailment   \n",
       "9999  4805835848.jpg#0r1n        neutral  contradiction        neutral   \n",
       "\n",
       "             label4         label5  \n",
       "0           neutral        neutral  \n",
       "1        entailment     entailment  \n",
       "2     contradiction  contradiction  \n",
       "3        entailment     entailment  \n",
       "4        entailment     entailment  \n",
       "...             ...            ...  \n",
       "9995  contradiction            NaN  \n",
       "9996  contradiction  contradiction  \n",
       "9997     entailment     entailment  \n",
       "9998  contradiction        neutral  \n",
       "9999        neutral     entailment  \n",
       "\n",
       "[10000 rows x 14 columns]"
      ]
     },
     "execution_count": 7,
     "metadata": {},
     "output_type": "execute_result"
    }
   ],
   "source": [
    "val_data"
   ]
  },
  {
   "cell_type": "code",
   "execution_count": 8,
   "metadata": {
    "execution": {
     "iopub.execute_input": "2021-12-18T16:01:37.244370Z",
     "iopub.status.busy": "2021-12-18T16:01:37.243668Z",
     "iopub.status.idle": "2021-12-18T16:01:37.266451Z",
     "shell.execute_reply": "2021-12-18T16:01:37.265736Z",
     "shell.execute_reply.started": "2021-12-18T16:01:37.244314Z"
    }
   },
   "outputs": [
    {
     "data": {
      "text/html": [
       "<div>\n",
       "<style scoped>\n",
       "    .dataframe tbody tr th:only-of-type {\n",
       "        vertical-align: middle;\n",
       "    }\n",
       "\n",
       "    .dataframe tbody tr th {\n",
       "        vertical-align: top;\n",
       "    }\n",
       "\n",
       "    .dataframe thead th {\n",
       "        text-align: right;\n",
       "    }\n",
       "</style>\n",
       "<table border=\"1\" class=\"dataframe\">\n",
       "  <thead>\n",
       "    <tr style=\"text-align: right;\">\n",
       "      <th></th>\n",
       "      <th>gold_label</th>\n",
       "      <th>sentence1_binary_parse</th>\n",
       "      <th>sentence2_binary_parse</th>\n",
       "      <th>sentence1_parse</th>\n",
       "      <th>sentence2_parse</th>\n",
       "      <th>sentence1</th>\n",
       "      <th>sentence2</th>\n",
       "      <th>captionID</th>\n",
       "      <th>pairID</th>\n",
       "      <th>label1</th>\n",
       "      <th>label2</th>\n",
       "      <th>label3</th>\n",
       "      <th>label4</th>\n",
       "      <th>label5</th>\n",
       "    </tr>\n",
       "  </thead>\n",
       "  <tbody>\n",
       "    <tr>\n",
       "      <th>0</th>\n",
       "      <td>neutral</td>\n",
       "      <td>( ( This ( church choir ) ) ( ( ( sings ( to (...</td>\n",
       "      <td>( ( The church ) ( ( has ( cracks ( in ( the c...</td>\n",
       "      <td>(ROOT (S (NP (DT This) (NN church) (NN choir))...</td>\n",
       "      <td>(ROOT (S (NP (DT The) (NN church)) (VP (VBZ ha...</td>\n",
       "      <td>This church choir sings to the masses as they ...</td>\n",
       "      <td>The church has cracks in the ceiling.</td>\n",
       "      <td>2677109430.jpg#1</td>\n",
       "      <td>2677109430.jpg#1r1n</td>\n",
       "      <td>neutral</td>\n",
       "      <td>contradiction</td>\n",
       "      <td>contradiction</td>\n",
       "      <td>neutral</td>\n",
       "      <td>neutral</td>\n",
       "    </tr>\n",
       "    <tr>\n",
       "      <th>1</th>\n",
       "      <td>entailment</td>\n",
       "      <td>( ( This ( church choir ) ) ( ( ( sings ( to (...</td>\n",
       "      <td>( ( The church ) ( ( is ( filled ( with song )...</td>\n",
       "      <td>(ROOT (S (NP (DT This) (NN church) (NN choir))...</td>\n",
       "      <td>(ROOT (S (NP (DT The) (NN church)) (VP (VBZ is...</td>\n",
       "      <td>This church choir sings to the masses as they ...</td>\n",
       "      <td>The church is filled with song.</td>\n",
       "      <td>2677109430.jpg#1</td>\n",
       "      <td>2677109430.jpg#1r1e</td>\n",
       "      <td>entailment</td>\n",
       "      <td>entailment</td>\n",
       "      <td>entailment</td>\n",
       "      <td>neutral</td>\n",
       "      <td>entailment</td>\n",
       "    </tr>\n",
       "    <tr>\n",
       "      <th>2</th>\n",
       "      <td>contradiction</td>\n",
       "      <td>( ( This ( church choir ) ) ( ( ( sings ( to (...</td>\n",
       "      <td>( ( ( A choir ) ( singing ( at ( a ( baseball ...</td>\n",
       "      <td>(ROOT (S (NP (DT This) (NN church) (NN choir))...</td>\n",
       "      <td>(ROOT (NP (NP (DT A) (NN choir)) (VP (VBG sing...</td>\n",
       "      <td>This church choir sings to the masses as they ...</td>\n",
       "      <td>A choir singing at a baseball game.</td>\n",
       "      <td>2677109430.jpg#1</td>\n",
       "      <td>2677109430.jpg#1r1c</td>\n",
       "      <td>contradiction</td>\n",
       "      <td>contradiction</td>\n",
       "      <td>contradiction</td>\n",
       "      <td>contradiction</td>\n",
       "      <td>contradiction</td>\n",
       "    </tr>\n",
       "    <tr>\n",
       "      <th>3</th>\n",
       "      <td>neutral</td>\n",
       "      <td>( ( ( A woman ) ( with ( ( ( ( ( a ( green hea...</td>\n",
       "      <td>( ( The woman ) ( ( is young ) . ) )</td>\n",
       "      <td>(ROOT (NP (NP (DT A) (NN woman)) (PP (IN with)...</td>\n",
       "      <td>(ROOT (S (NP (DT The) (NN woman)) (VP (VBZ is)...</td>\n",
       "      <td>A woman with a green headscarf, blue shirt and...</td>\n",
       "      <td>The woman is young.</td>\n",
       "      <td>6160193920.jpg#4</td>\n",
       "      <td>6160193920.jpg#4r1n</td>\n",
       "      <td>neutral</td>\n",
       "      <td>neutral</td>\n",
       "      <td>neutral</td>\n",
       "      <td>neutral</td>\n",
       "      <td>neutral</td>\n",
       "    </tr>\n",
       "    <tr>\n",
       "      <th>4</th>\n",
       "      <td>entailment</td>\n",
       "      <td>( ( ( A woman ) ( with ( ( ( ( ( a ( green hea...</td>\n",
       "      <td>( ( The woman ) ( ( is ( very happy ) ) . ) )</td>\n",
       "      <td>(ROOT (NP (NP (DT A) (NN woman)) (PP (IN with)...</td>\n",
       "      <td>(ROOT (S (NP (DT The) (NN woman)) (VP (VBZ is)...</td>\n",
       "      <td>A woman with a green headscarf, blue shirt and...</td>\n",
       "      <td>The woman is very happy.</td>\n",
       "      <td>6160193920.jpg#4</td>\n",
       "      <td>6160193920.jpg#4r1e</td>\n",
       "      <td>entailment</td>\n",
       "      <td>entailment</td>\n",
       "      <td>contradiction</td>\n",
       "      <td>entailment</td>\n",
       "      <td>neutral</td>\n",
       "    </tr>\n",
       "    <tr>\n",
       "      <th>...</th>\n",
       "      <td>...</td>\n",
       "      <td>...</td>\n",
       "      <td>...</td>\n",
       "      <td>...</td>\n",
       "      <td>...</td>\n",
       "      <td>...</td>\n",
       "      <td>...</td>\n",
       "      <td>...</td>\n",
       "      <td>...</td>\n",
       "      <td>...</td>\n",
       "      <td>...</td>\n",
       "      <td>...</td>\n",
       "      <td>...</td>\n",
       "      <td>...</td>\n",
       "    </tr>\n",
       "    <tr>\n",
       "      <th>9995</th>\n",
       "      <td>contradiction</td>\n",
       "      <td>( ( Two women ) ( ( are ( ( observing somethin...</td>\n",
       "      <td>( ( ( Two women ) ( are ( standing ( with ( th...</td>\n",
       "      <td>(ROOT (S (NP (CD Two) (NNS women)) (VP (VBP ar...</td>\n",
       "      <td>(ROOT (S (NP (NP (CD Two) (NNS women)) (SBAR (...</td>\n",
       "      <td>Two women are observing something together.</td>\n",
       "      <td>Two women are standing with their eyes closed.</td>\n",
       "      <td>4378810163.jpg#4</td>\n",
       "      <td>4378810163.jpg#4r1c</td>\n",
       "      <td>contradiction</td>\n",
       "      <td>contradiction</td>\n",
       "      <td>contradiction</td>\n",
       "      <td>contradiction</td>\n",
       "      <td>contradiction</td>\n",
       "    </tr>\n",
       "    <tr>\n",
       "      <th>9996</th>\n",
       "      <td>entailment</td>\n",
       "      <td>( ( Two women ) ( ( are ( ( observing somethin...</td>\n",
       "      <td>( ( Two girls ) ( ( are ( looking ( at somethi...</td>\n",
       "      <td>(ROOT (S (NP (CD Two) (NNS women)) (VP (VBP ar...</td>\n",
       "      <td>(ROOT (S (NP (CD Two) (NNS girls)) (VP (VBP ar...</td>\n",
       "      <td>Two women are observing something together.</td>\n",
       "      <td>Two girls are looking at something.</td>\n",
       "      <td>4378810163.jpg#4</td>\n",
       "      <td>4378810163.jpg#4r1e</td>\n",
       "      <td>entailment</td>\n",
       "      <td>entailment</td>\n",
       "      <td>entailment</td>\n",
       "      <td>contradiction</td>\n",
       "      <td>entailment</td>\n",
       "    </tr>\n",
       "    <tr>\n",
       "      <th>9997</th>\n",
       "      <td>contradiction</td>\n",
       "      <td>( ( ( ( ( A man ) ( in ( a ( black ( leather j...</td>\n",
       "      <td>( ( A man ) ( ( is ( flying ( a kite ) ) ) . ) )</td>\n",
       "      <td>(ROOT (S (NP (NP (NP (DT A) (NN man)) (PP (IN ...</td>\n",
       "      <td>(ROOT (S (NP (DT A) (NN man)) (VP (VBZ is) (VP...</td>\n",
       "      <td>A man in a black leather jacket and a book in ...</td>\n",
       "      <td>A man is flying a kite.</td>\n",
       "      <td>152881593.jpg#1</td>\n",
       "      <td>152881593.jpg#1r1c</td>\n",
       "      <td>contradiction</td>\n",
       "      <td>contradiction</td>\n",
       "      <td>contradiction</td>\n",
       "      <td>contradiction</td>\n",
       "      <td>contradiction</td>\n",
       "    </tr>\n",
       "    <tr>\n",
       "      <th>9998</th>\n",
       "      <td>entailment</td>\n",
       "      <td>( ( ( ( ( A man ) ( in ( a ( black ( leather j...</td>\n",
       "      <td>( ( A man ) ( ( is ( speaking ( in ( a classro...</td>\n",
       "      <td>(ROOT (S (NP (NP (NP (DT A) (NN man)) (PP (IN ...</td>\n",
       "      <td>(ROOT (S (NP (DT A) (NN man)) (VP (VBZ is) (VP...</td>\n",
       "      <td>A man in a black leather jacket and a book in ...</td>\n",
       "      <td>A man is speaking in a classroom.</td>\n",
       "      <td>152881593.jpg#1</td>\n",
       "      <td>152881593.jpg#1r1e</td>\n",
       "      <td>entailment</td>\n",
       "      <td>entailment</td>\n",
       "      <td>entailment</td>\n",
       "      <td>neutral</td>\n",
       "      <td>entailment</td>\n",
       "    </tr>\n",
       "    <tr>\n",
       "      <th>9999</th>\n",
       "      <td>neutral</td>\n",
       "      <td>( ( ( ( ( A man ) ( in ( a ( black ( leather j...</td>\n",
       "      <td>( ( A man ) ( ( is ( ( teaching science ) ( in...</td>\n",
       "      <td>(ROOT (S (NP (NP (NP (DT A) (NN man)) (PP (IN ...</td>\n",
       "      <td>(ROOT (S (NP (DT A) (NN man)) (VP (VBZ is) (VP...</td>\n",
       "      <td>A man in a black leather jacket and a book in ...</td>\n",
       "      <td>A man is teaching science in a classroom.</td>\n",
       "      <td>152881593.jpg#1</td>\n",
       "      <td>152881593.jpg#1r1n</td>\n",
       "      <td>neutral</td>\n",
       "      <td>neutral</td>\n",
       "      <td>neutral</td>\n",
       "      <td>neutral</td>\n",
       "      <td>neutral</td>\n",
       "    </tr>\n",
       "  </tbody>\n",
       "</table>\n",
       "<p>10000 rows × 14 columns</p>\n",
       "</div>"
      ],
      "text/plain": [
       "         gold_label                             sentence1_binary_parse  \\\n",
       "0           neutral  ( ( This ( church choir ) ) ( ( ( sings ( to (...   \n",
       "1        entailment  ( ( This ( church choir ) ) ( ( ( sings ( to (...   \n",
       "2     contradiction  ( ( This ( church choir ) ) ( ( ( sings ( to (...   \n",
       "3           neutral  ( ( ( A woman ) ( with ( ( ( ( ( a ( green hea...   \n",
       "4        entailment  ( ( ( A woman ) ( with ( ( ( ( ( a ( green hea...   \n",
       "...             ...                                                ...   \n",
       "9995  contradiction  ( ( Two women ) ( ( are ( ( observing somethin...   \n",
       "9996     entailment  ( ( Two women ) ( ( are ( ( observing somethin...   \n",
       "9997  contradiction  ( ( ( ( ( A man ) ( in ( a ( black ( leather j...   \n",
       "9998     entailment  ( ( ( ( ( A man ) ( in ( a ( black ( leather j...   \n",
       "9999        neutral  ( ( ( ( ( A man ) ( in ( a ( black ( leather j...   \n",
       "\n",
       "                                 sentence2_binary_parse  \\\n",
       "0     ( ( The church ) ( ( has ( cracks ( in ( the c...   \n",
       "1     ( ( The church ) ( ( is ( filled ( with song )...   \n",
       "2     ( ( ( A choir ) ( singing ( at ( a ( baseball ...   \n",
       "3                  ( ( The woman ) ( ( is young ) . ) )   \n",
       "4         ( ( The woman ) ( ( is ( very happy ) ) . ) )   \n",
       "...                                                 ...   \n",
       "9995  ( ( ( Two women ) ( are ( standing ( with ( th...   \n",
       "9996  ( ( Two girls ) ( ( are ( looking ( at somethi...   \n",
       "9997   ( ( A man ) ( ( is ( flying ( a kite ) ) ) . ) )   \n",
       "9998  ( ( A man ) ( ( is ( speaking ( in ( a classro...   \n",
       "9999  ( ( A man ) ( ( is ( ( teaching science ) ( in...   \n",
       "\n",
       "                                        sentence1_parse  \\\n",
       "0     (ROOT (S (NP (DT This) (NN church) (NN choir))...   \n",
       "1     (ROOT (S (NP (DT This) (NN church) (NN choir))...   \n",
       "2     (ROOT (S (NP (DT This) (NN church) (NN choir))...   \n",
       "3     (ROOT (NP (NP (DT A) (NN woman)) (PP (IN with)...   \n",
       "4     (ROOT (NP (NP (DT A) (NN woman)) (PP (IN with)...   \n",
       "...                                                 ...   \n",
       "9995  (ROOT (S (NP (CD Two) (NNS women)) (VP (VBP ar...   \n",
       "9996  (ROOT (S (NP (CD Two) (NNS women)) (VP (VBP ar...   \n",
       "9997  (ROOT (S (NP (NP (NP (DT A) (NN man)) (PP (IN ...   \n",
       "9998  (ROOT (S (NP (NP (NP (DT A) (NN man)) (PP (IN ...   \n",
       "9999  (ROOT (S (NP (NP (NP (DT A) (NN man)) (PP (IN ...   \n",
       "\n",
       "                                        sentence2_parse  \\\n",
       "0     (ROOT (S (NP (DT The) (NN church)) (VP (VBZ ha...   \n",
       "1     (ROOT (S (NP (DT The) (NN church)) (VP (VBZ is...   \n",
       "2     (ROOT (NP (NP (DT A) (NN choir)) (VP (VBG sing...   \n",
       "3     (ROOT (S (NP (DT The) (NN woman)) (VP (VBZ is)...   \n",
       "4     (ROOT (S (NP (DT The) (NN woman)) (VP (VBZ is)...   \n",
       "...                                                 ...   \n",
       "9995  (ROOT (S (NP (NP (CD Two) (NNS women)) (SBAR (...   \n",
       "9996  (ROOT (S (NP (CD Two) (NNS girls)) (VP (VBP ar...   \n",
       "9997  (ROOT (S (NP (DT A) (NN man)) (VP (VBZ is) (VP...   \n",
       "9998  (ROOT (S (NP (DT A) (NN man)) (VP (VBZ is) (VP...   \n",
       "9999  (ROOT (S (NP (DT A) (NN man)) (VP (VBZ is) (VP...   \n",
       "\n",
       "                                              sentence1  \\\n",
       "0     This church choir sings to the masses as they ...   \n",
       "1     This church choir sings to the masses as they ...   \n",
       "2     This church choir sings to the masses as they ...   \n",
       "3     A woman with a green headscarf, blue shirt and...   \n",
       "4     A woman with a green headscarf, blue shirt and...   \n",
       "...                                                 ...   \n",
       "9995        Two women are observing something together.   \n",
       "9996        Two women are observing something together.   \n",
       "9997  A man in a black leather jacket and a book in ...   \n",
       "9998  A man in a black leather jacket and a book in ...   \n",
       "9999  A man in a black leather jacket and a book in ...   \n",
       "\n",
       "                                           sentence2         captionID  \\\n",
       "0              The church has cracks in the ceiling.  2677109430.jpg#1   \n",
       "1                    The church is filled with song.  2677109430.jpg#1   \n",
       "2                A choir singing at a baseball game.  2677109430.jpg#1   \n",
       "3                                The woman is young.  6160193920.jpg#4   \n",
       "4                           The woman is very happy.  6160193920.jpg#4   \n",
       "...                                              ...               ...   \n",
       "9995  Two women are standing with their eyes closed.  4378810163.jpg#4   \n",
       "9996             Two girls are looking at something.  4378810163.jpg#4   \n",
       "9997                         A man is flying a kite.   152881593.jpg#1   \n",
       "9998               A man is speaking in a classroom.   152881593.jpg#1   \n",
       "9999       A man is teaching science in a classroom.   152881593.jpg#1   \n",
       "\n",
       "                   pairID         label1         label2         label3  \\\n",
       "0     2677109430.jpg#1r1n        neutral  contradiction  contradiction   \n",
       "1     2677109430.jpg#1r1e     entailment     entailment     entailment   \n",
       "2     2677109430.jpg#1r1c  contradiction  contradiction  contradiction   \n",
       "3     6160193920.jpg#4r1n        neutral        neutral        neutral   \n",
       "4     6160193920.jpg#4r1e     entailment     entailment  contradiction   \n",
       "...                   ...            ...            ...            ...   \n",
       "9995  4378810163.jpg#4r1c  contradiction  contradiction  contradiction   \n",
       "9996  4378810163.jpg#4r1e     entailment     entailment     entailment   \n",
       "9997   152881593.jpg#1r1c  contradiction  contradiction  contradiction   \n",
       "9998   152881593.jpg#1r1e     entailment     entailment     entailment   \n",
       "9999   152881593.jpg#1r1n        neutral        neutral        neutral   \n",
       "\n",
       "             label4         label5  \n",
       "0           neutral        neutral  \n",
       "1           neutral     entailment  \n",
       "2     contradiction  contradiction  \n",
       "3           neutral        neutral  \n",
       "4        entailment        neutral  \n",
       "...             ...            ...  \n",
       "9995  contradiction  contradiction  \n",
       "9996  contradiction     entailment  \n",
       "9997  contradiction  contradiction  \n",
       "9998        neutral     entailment  \n",
       "9999        neutral        neutral  \n",
       "\n",
       "[10000 rows x 14 columns]"
      ]
     },
     "execution_count": 8,
     "metadata": {},
     "output_type": "execute_result"
    }
   ],
   "source": [
    "test_data"
   ]
  },
  {
   "cell_type": "code",
   "execution_count": 9,
   "metadata": {
    "execution": {
     "iopub.execute_input": "2021-12-18T16:01:42.061687Z",
     "iopub.status.busy": "2021-12-18T16:01:42.061415Z",
     "iopub.status.idle": "2021-12-18T16:01:42.070147Z",
     "shell.execute_reply": "2021-12-18T16:01:42.069092Z",
     "shell.execute_reply.started": "2021-12-18T16:01:42.061657Z"
    }
   },
   "outputs": [
    {
     "name": "stdout",
     "output_type": "stream",
     "text": [
      "Training on 550152 examples\n",
      "Validating on 10000 examples\n",
      "Testing on 10000 examples\n"
     ]
    }
   ],
   "source": [
    "print(\"Training on\", train_data.shape[0], \"examples\")\n",
    "print(\"Validating on\", test_data.shape[0], \"examples\")\n",
    "print(\"Testing on\", val_data.shape[0], \"examples\")"
   ]
  },
  {
   "cell_type": "markdown",
   "metadata": {},
   "source": [
    "## Check the Null Value"
   ]
  },
  {
   "cell_type": "code",
   "execution_count": 10,
   "metadata": {
    "execution": {
     "iopub.execute_input": "2021-12-18T16:01:45.639408Z",
     "iopub.status.busy": "2021-12-18T16:01:45.639149Z",
     "iopub.status.idle": "2021-12-18T16:01:46.298824Z",
     "shell.execute_reply": "2021-12-18T16:01:46.298092Z",
     "shell.execute_reply.started": "2021-12-18T16:01:45.639373Z"
    }
   },
   "outputs": [
    {
     "name": "stdout",
     "output_type": "stream",
     "text": [
      "gold_label                     0\n",
      "sentence1_binary_parse         0\n",
      "sentence2_binary_parse         6\n",
      "sentence1_parse                0\n",
      "sentence2_parse                0\n",
      "sentence1                      0\n",
      "sentence2                      6\n",
      "captionID                      0\n",
      "pairID                         0\n",
      "label1                         0\n",
      "label2                    510782\n",
      "label3                    510757\n",
      "label4                    510769\n",
      "label5                    513238\n",
      "dtype: int64\n",
      "gold_label                 0\n",
      "sentence1_binary_parse     0\n",
      "sentence2_binary_parse     0\n",
      "sentence1_parse            0\n",
      "sentence2_parse            0\n",
      "sentence1                  0\n",
      "sentence2                  0\n",
      "captionID                  0\n",
      "pairID                     0\n",
      "label1                     0\n",
      "label2                     0\n",
      "label3                     0\n",
      "label4                     0\n",
      "label5                    10\n",
      "dtype: int64\n",
      "gold_label                 0\n",
      "sentence1_binary_parse     0\n",
      "sentence2_binary_parse     0\n",
      "sentence1_parse            0\n",
      "sentence2_parse            0\n",
      "sentence1                  0\n",
      "sentence2                  0\n",
      "captionID                  0\n",
      "pairID                     0\n",
      "label1                     0\n",
      "label2                     0\n",
      "label3                     0\n",
      "label4                     0\n",
      "label5                    14\n",
      "dtype: int64\n"
     ]
    }
   ],
   "source": [
    "print(train_data.isnull().sum())\n",
    "print(test_data.isnull().sum())\n",
    "print(val_data.isnull().sum())"
   ]
  },
  {
   "cell_type": "code",
   "execution_count": 11,
   "metadata": {
    "execution": {
     "iopub.execute_input": "2021-12-18T16:01:49.292091Z",
     "iopub.status.busy": "2021-12-18T16:01:49.291325Z",
     "iopub.status.idle": "2021-12-18T16:01:58.741795Z",
     "shell.execute_reply": "2021-12-18T16:01:58.741113Z",
     "shell.execute_reply.started": "2021-12-18T16:01:49.292048Z"
    }
   },
   "outputs": [
    {
     "data": {
      "text/plain": [
       "<AxesSubplot:>"
      ]
     },
     "execution_count": 11,
     "metadata": {},
     "output_type": "execute_result"
    },
    {
     "data": {
      "image/png": "[encoded data removed]",
      "text/plain": [
       "<Figure size 432x288 with 1 Axes>"
      ]
     },
     "metadata": {
      "needs_background": "light"
     },
     "output_type": "display_data"
    }
   ],
   "source": [
    "import seaborn as sns\n",
    "\n",
    "sns.heatmap(train_data.isnull(), cbar=False)"
   ]
  },
  {
   "cell_type": "code",
   "execution_count": 12,
   "metadata": {
    "execution": {
     "iopub.execute_input": "2021-12-18T16:02:03.258156Z",
     "iopub.status.busy": "2021-12-18T16:02:03.257466Z",
     "iopub.status.idle": "2021-12-18T16:02:03.739864Z",
     "shell.execute_reply": "2021-12-18T16:02:03.738819Z",
     "shell.execute_reply.started": "2021-12-18T16:02:03.258119Z"
    }
   },
   "outputs": [
    {
     "data": {
      "text/plain": [
       "<AxesSubplot:>"
      ]
     },
     "execution_count": 12,
     "metadata": {},
     "output_type": "execute_result"
    },
    {
     "data": {
      "image/png": "[encoded data removed]",
      "text/plain": [
       "<Figure size 432x288 with 1 Axes>"
      ]
     },
     "metadata": {
      "needs_background": "light"
     },
     "output_type": "display_data"
    }
   ],
   "source": [
    "sns.heatmap(test_data.isnull(), cbar=False)"
   ]
  },
  {
   "cell_type": "code",
   "execution_count": 13,
   "metadata": {
    "execution": {
     "iopub.execute_input": "2021-12-18T16:02:06.441866Z",
     "iopub.status.busy": "2021-12-18T16:02:06.440891Z",
     "iopub.status.idle": "2021-12-18T16:02:07.303010Z",
     "shell.execute_reply": "2021-12-18T16:02:07.302272Z",
     "shell.execute_reply.started": "2021-12-18T16:02:06.441818Z"
    }
   },
   "outputs": [
    {
     "data": {
      "text/plain": [
       "<AxesSubplot:>"
      ]
     },
     "execution_count": 13,
     "metadata": {},
     "output_type": "execute_result"
    },
    {
     "data": {
      "image/png": "[encoded data removed]",
      "text/plain": [
       "<Figure size 432x288 with 1 Axes>"
      ]
     },
     "metadata": {
      "needs_background": "light"
     },
     "output_type": "display_data"
    }
   ],
   "source": [
    "sns.heatmap(val_data.isnull(), cbar=False)"
   ]
  },
  {
   "cell_type": "code",
   "execution_count": 15,
   "metadata": {
    "execution": {
     "iopub.execute_input": "2021-12-18T16:04:45.749392Z",
     "iopub.status.busy": "2021-12-18T16:04:45.749132Z",
     "iopub.status.idle": "2021-12-18T16:04:45.829989Z",
     "shell.execute_reply": "2021-12-18T16:04:45.828564Z",
     "shell.execute_reply.started": "2021-12-18T16:04:45.749358Z"
    }
   },
   "outputs": [
    {
     "name": "stdout",
     "output_type": "stream",
     "text": [
      "Train Target Distribution\n",
      "entailment       183416\n",
      "contradiction    183187\n",
      "neutral          182764\n",
      "-                   785\n",
      "Name: gold_label, dtype: int64\n"
     ]
    }
   ],
   "source": [
    "print(\"Train Target Distribution\")\n",
    "print(train_data.gold_label.value_counts())"
   ]
  },
  {
   "cell_type": "code",
   "execution_count": 18,
   "metadata": {
    "execution": {
     "iopub.execute_input": "2021-12-18T16:06:04.608168Z",
     "iopub.status.busy": "2021-12-18T16:06:04.607907Z",
     "iopub.status.idle": "2021-12-18T16:06:04.615703Z",
     "shell.execute_reply": "2021-12-18T16:06:04.614852Z",
     "shell.execute_reply.started": "2021-12-18T16:06:04.608140Z"
    }
   },
   "outputs": [
    {
     "name": "stdout",
     "output_type": "stream",
     "text": [
      "Validation Target Distribution\n",
      "entailment       3329\n",
      "contradiction    3278\n",
      "neutral          3235\n",
      "-                 158\n",
      "Name: gold_label, dtype: int64\n"
     ]
    }
   ],
   "source": [
    "print(\"Validation Target Distribution\")\n",
    "print(val_data.gold_label.value_counts())"
   ]
  },
  {
   "cell_type": "code",
   "execution_count": 19,
   "metadata": {
    "execution": {
     "iopub.execute_input": "2021-12-18T16:06:19.747593Z",
     "iopub.status.busy": "2021-12-18T16:06:19.747187Z",
     "iopub.status.idle": "2021-12-18T16:06:19.757304Z",
     "shell.execute_reply": "2021-12-18T16:06:19.755720Z",
     "shell.execute_reply.started": "2021-12-18T16:06:19.747557Z"
    }
   },
   "outputs": [
    {
     "name": "stdout",
     "output_type": "stream",
     "text": [
      "Test Target Distribution\n",
      "entailment       3368\n",
      "contradiction    3237\n",
      "neutral          3219\n",
      "-                 176\n",
      "Name: gold_label, dtype: int64\n"
     ]
    }
   ],
   "source": [
    "print(\"Test Target Distribution\")\n",
    "print(test_data.gold_label.value_counts())"
   ]
  },
  {
   "cell_type": "markdown",
   "metadata": {},
   "source": [
    "## Remove Null Values"
   ]
  },
  {
   "cell_type": "code",
   "execution_count": 20,
   "metadata": {
    "execution": {
     "iopub.execute_input": "2021-12-18T16:06:24.101686Z",
     "iopub.status.busy": "2021-12-18T16:06:24.101408Z",
     "iopub.status.idle": "2021-12-18T16:06:24.481318Z",
     "shell.execute_reply": "2021-12-18T16:06:24.480589Z",
     "shell.execute_reply.started": "2021-12-18T16:06:24.101652Z"
    }
   },
   "outputs": [],
   "source": [
    "train_data = train_data.dropna(subset = ['sentence2'])\n",
    "\n",
    "train_data = train_data[train_data[\"gold_label\"] != \"-\"]\n",
    "test_data = test_data[test_data[\"gold_label\"] != \"-\"]\n",
    "val_data = val_data[val_data[\"gold_label\"] != \"-\"]"
   ]
  },
  {
   "cell_type": "code",
   "execution_count": 21,
   "metadata": {
    "execution": {
     "iopub.execute_input": "2021-12-18T16:06:52.325178Z",
     "iopub.status.busy": "2021-12-18T16:06:52.324927Z",
     "iopub.status.idle": "2021-12-18T16:06:52.388487Z",
     "shell.execute_reply": "2021-12-18T16:06:52.387607Z",
     "shell.execute_reply.started": "2021-12-18T16:06:52.325150Z"
    }
   },
   "outputs": [
    {
     "name": "stderr",
     "output_type": "stream",
     "text": [
      "/opt/conda/lib/python3.7/site-packages/ipykernel_launcher.py:4: SettingWithCopyWarning: \n",
      "A value is trying to be set on a copy of a slice from a DataFrame.\n",
      "Try using .loc[row_indexer,col_indexer] = value instead\n",
      "\n",
      "See the caveats in the documentation: https://pandas.pydata.org/pandas-docs/stable/user_guide/indexing.html#returning-a-view-versus-a-copy\n",
      "  after removing the cwd from sys.path.\n",
      "/opt/conda/lib/python3.7/site-packages/ipykernel_launcher.py:5: SettingWithCopyWarning: \n",
      "A value is trying to be set on a copy of a slice from a DataFrame.\n",
      "Try using .loc[row_indexer,col_indexer] = value instead\n",
      "\n",
      "See the caveats in the documentation: https://pandas.pydata.org/pandas-docs/stable/user_guide/indexing.html#returning-a-view-versus-a-copy\n",
      "  \"\"\"\n",
      "/opt/conda/lib/python3.7/site-packages/ipykernel_launcher.py:7: SettingWithCopyWarning: \n",
      "A value is trying to be set on a copy of a slice from a DataFrame.\n",
      "Try using .loc[row_indexer,col_indexer] = value instead\n",
      "\n",
      "See the caveats in the documentation: https://pandas.pydata.org/pandas-docs/stable/user_guide/indexing.html#returning-a-view-versus-a-copy\n",
      "  import sys\n",
      "/opt/conda/lib/python3.7/site-packages/ipykernel_launcher.py:8: SettingWithCopyWarning: \n",
      "A value is trying to be set on a copy of a slice from a DataFrame.\n",
      "Try using .loc[row_indexer,col_indexer] = value instead\n",
      "\n",
      "See the caveats in the documentation: https://pandas.pydata.org/pandas-docs/stable/user_guide/indexing.html#returning-a-view-versus-a-copy\n",
      "  \n"
     ]
    }
   ],
   "source": [
    "train_data['sentence1'] = train_data['sentence1'].astype(str)\n",
    "train_data['sentence2'] = train_data['sentence2'].astype(str)\n",
    "\n",
    "val_data['sentence1'] = val_data['sentence1'].astype(str)\n",
    "val_data['sentence2'] = val_data['sentence2'].astype(str)\n",
    "\n",
    "test_data['sentence1'] = test_data['sentence1'].astype(str)\n",
    "test_data['sentence2'] = test_data['sentence2'].astype(str)"
   ]
  },
  {
   "cell_type": "code",
   "execution_count": 23,
   "metadata": {
    "execution": {
     "iopub.execute_input": "2021-12-18T16:11:50.454254Z",
     "iopub.status.busy": "2021-12-18T16:11:50.454003Z",
     "iopub.status.idle": "2021-12-18T16:11:50.605286Z",
     "shell.execute_reply": "2021-12-18T16:11:50.604582Z",
     "shell.execute_reply.started": "2021-12-18T16:11:50.454228Z"
    }
   },
   "outputs": [
    {
     "data": {
      "text/html": [
       "<div>\n",
       "<style scoped>\n",
       "    .dataframe tbody tr th:only-of-type {\n",
       "        vertical-align: middle;\n",
       "    }\n",
       "\n",
       "    .dataframe tbody tr th {\n",
       "        vertical-align: top;\n",
       "    }\n",
       "\n",
       "    .dataframe thead th {\n",
       "        text-align: right;\n",
       "    }\n",
       "</style>\n",
       "<table border=\"1\" class=\"dataframe\">\n",
       "  <thead>\n",
       "    <tr style=\"text-align: right;\">\n",
       "      <th></th>\n",
       "      <th>gold_label</th>\n",
       "      <th>sentence1_binary_parse</th>\n",
       "      <th>sentence2_binary_parse</th>\n",
       "      <th>sentence1_parse</th>\n",
       "      <th>sentence2_parse</th>\n",
       "      <th>sentence1</th>\n",
       "      <th>sentence2</th>\n",
       "      <th>captionID</th>\n",
       "      <th>pairID</th>\n",
       "      <th>label1</th>\n",
       "      <th>label2</th>\n",
       "      <th>label3</th>\n",
       "      <th>label4</th>\n",
       "      <th>label5</th>\n",
       "    </tr>\n",
       "  </thead>\n",
       "  <tbody>\n",
       "  </tbody>\n",
       "</table>\n",
       "</div>"
      ],
      "text/plain": [
       "Empty DataFrame\n",
       "Columns: [gold_label, sentence1_binary_parse, sentence2_binary_parse, sentence1_parse, sentence2_parse, sentence1, sentence2, captionID, pairID, label1, label2, label3, label4, label5]\n",
       "Index: []"
      ]
     },
     "execution_count": 23,
     "metadata": {},
     "output_type": "execute_result"
    }
   ],
   "source": [
    "train_data[(train_data['sentence1'] == '') | (train_data['sentence2'] == '')]"
   ]
  },
  {
   "cell_type": "code",
   "execution_count": 26,
   "metadata": {
    "execution": {
     "iopub.execute_input": "2021-12-18T16:14:28.039960Z",
     "iopub.status.busy": "2021-12-18T16:14:28.039285Z",
     "iopub.status.idle": "2021-12-18T16:14:28.066211Z",
     "shell.execute_reply": "2021-12-18T16:14:28.065399Z",
     "shell.execute_reply.started": "2021-12-18T16:14:28.039917Z"
    }
   },
   "outputs": [
    {
     "data": {
      "text/plain": [
       "(99888, 3)"
      ]
     },
     "execution_count": 26,
     "metadata": {},
     "output_type": "execute_result"
    }
   ],
   "source": [
    "train_df = train_data.loc[:100000,['sentence1','sentence2','gold_label']]\n",
    "train_df.shape"
   ]
  },
  {
   "cell_type": "code",
   "execution_count": 28,
   "metadata": {
    "execution": {
     "iopub.execute_input": "2021-12-18T16:14:59.194401Z",
     "iopub.status.busy": "2021-12-18T16:14:59.194153Z",
     "iopub.status.idle": "2021-12-18T16:14:59.203276Z",
     "shell.execute_reply": "2021-12-18T16:14:59.202384Z",
     "shell.execute_reply.started": "2021-12-18T16:14:59.194373Z"
    }
   },
   "outputs": [
    {
     "data": {
      "text/plain": [
       "(9842, 3)"
      ]
     },
     "execution_count": 28,
     "metadata": {},
     "output_type": "execute_result"
    }
   ],
   "source": [
    "val_df = val_data.loc[:,['sentence1','sentence2','gold_label']]\n",
    "val_df.shape"
   ]
  },
  {
   "cell_type": "code",
   "execution_count": 29,
   "metadata": {
    "execution": {
     "iopub.execute_input": "2021-12-18T16:15:08.359644Z",
     "iopub.status.busy": "2021-12-18T16:15:08.359366Z",
     "iopub.status.idle": "2021-12-18T16:15:08.367342Z",
     "shell.execute_reply": "2021-12-18T16:15:08.366703Z",
     "shell.execute_reply.started": "2021-12-18T16:15:08.359616Z"
    }
   },
   "outputs": [
    {
     "data": {
      "text/plain": [
       "(9824, 3)"
      ]
     },
     "execution_count": 29,
     "metadata": {},
     "output_type": "execute_result"
    }
   ],
   "source": [
    "test_df = test_data.loc[:,['sentence1','sentence2','gold_label']]\n",
    "test_df.shape"
   ]
  },
  {
   "cell_type": "markdown",
   "metadata": {},
   "source": [
    "### There are also some sentences containing only a meaningless word, so we remove them"
   ]
  },
  {
   "cell_type": "code",
   "execution_count": 27,
   "metadata": {
    "execution": {
     "iopub.execute_input": "2021-12-18T16:14:40.196364Z",
     "iopub.status.busy": "2021-12-18T16:14:40.195756Z",
     "iopub.status.idle": "2021-12-18T16:14:41.110977Z",
     "shell.execute_reply": "2021-12-18T16:14:41.110268Z",
     "shell.execute_reply.started": "2021-12-18T16:14:40.196324Z"
    }
   },
   "outputs": [
    {
     "data": {
      "text/html": [
       "<div>\n",
       "<style scoped>\n",
       "    .dataframe tbody tr th:only-of-type {\n",
       "        vertical-align: middle;\n",
       "    }\n",
       "\n",
       "    .dataframe tbody tr th {\n",
       "        vertical-align: top;\n",
       "    }\n",
       "\n",
       "    .dataframe thead th {\n",
       "        text-align: right;\n",
       "    }\n",
       "</style>\n",
       "<table border=\"1\" class=\"dataframe\">\n",
       "  <thead>\n",
       "    <tr style=\"text-align: right;\">\n",
       "      <th></th>\n",
       "      <th>sentence1</th>\n",
       "      <th>sentence2</th>\n",
       "      <th>gold_label</th>\n",
       "    </tr>\n",
       "  </thead>\n",
       "  <tbody>\n",
       "    <tr>\n",
       "      <th>37767</th>\n",
       "      <td>Brown dog with objest in mouth moving toward c...</td>\n",
       "      <td>Fetch.</td>\n",
       "      <td>entailment</td>\n",
       "    </tr>\n",
       "    <tr>\n",
       "      <th>37768</th>\n",
       "      <td>Brown dog with objest in mouth moving toward c...</td>\n",
       "      <td>Feltch.</td>\n",
       "      <td>contradiction</td>\n",
       "    </tr>\n",
       "    <tr>\n",
       "      <th>88117</th>\n",
       "      <td>A guy in a blue suite kicking his leg.</td>\n",
       "      <td>https://www.youtube.com/watch?v=tXrsvC25GH8</td>\n",
       "      <td>contradiction</td>\n",
       "    </tr>\n",
       "    <tr>\n",
       "      <th>91475</th>\n",
       "      <td>Two people are on a stage, one holding a micro...</td>\n",
       "      <td>The</td>\n",
       "      <td>contradiction</td>\n",
       "    </tr>\n",
       "  </tbody>\n",
       "</table>\n",
       "</div>"
      ],
      "text/plain": [
       "                                               sentence1  \\\n",
       "37767  Brown dog with objest in mouth moving toward c...   \n",
       "37768  Brown dog with objest in mouth moving toward c...   \n",
       "88117             A guy in a blue suite kicking his leg.   \n",
       "91475  Two people are on a stage, one holding a micro...   \n",
       "\n",
       "                                         sentence2     gold_label  \n",
       "37767                                       Fetch.     entailment  \n",
       "37768                                      Feltch.  contradiction  \n",
       "88117  https://www.youtube.com/watch?v=tXrsvC25GH8  contradiction  \n",
       "91475                                          The  contradiction  "
      ]
     },
     "execution_count": 27,
     "metadata": {},
     "output_type": "execute_result"
    }
   ],
   "source": [
    "train_df[(train_df['sentence1'].str.split().str.len() == 1) | (train_df['sentence2'].str.split().str.len() == 1)]"
   ]
  },
  {
   "cell_type": "code",
   "execution_count": 30,
   "metadata": {
    "execution": {
     "iopub.execute_input": "2021-12-18T16:16:56.475084Z",
     "iopub.status.busy": "2021-12-18T16:16:56.474540Z",
     "iopub.status.idle": "2021-12-18T16:16:57.158310Z",
     "shell.execute_reply": "2021-12-18T16:16:57.157605Z",
     "shell.execute_reply.started": "2021-12-18T16:16:56.475046Z"
    }
   },
   "outputs": [],
   "source": [
    "train_df = train_df[(train_df['sentence1'].str.split().str.len() > 1) & (train_df['sentence2'].str.split().str.len() > 1)]\n",
    "val_df = val_df[(val_df['sentence1'].str.split().str.len() > 1) & (val_df['sentence2'].str.split().str.len() > 1)]\n",
    "test_df = test_df[(test_df['sentence1'].str.split().str.len() > 1) & (test_df['sentence2'].str.split().str.len() > 1)]"
   ]
  },
  {
   "cell_type": "code",
   "execution_count": 31,
   "metadata": {
    "execution": {
     "iopub.execute_input": "2021-12-18T16:17:18.675103Z",
     "iopub.status.busy": "2021-12-18T16:17:18.674851Z",
     "iopub.status.idle": "2021-12-18T16:17:19.529836Z",
     "shell.execute_reply": "2021-12-18T16:17:19.529100Z",
     "shell.execute_reply.started": "2021-12-18T16:17:18.675074Z"
    }
   },
   "outputs": [
    {
     "data": {
      "text/html": [
       "<div>\n",
       "<style scoped>\n",
       "    .dataframe tbody tr th:only-of-type {\n",
       "        vertical-align: middle;\n",
       "    }\n",
       "\n",
       "    .dataframe tbody tr th {\n",
       "        vertical-align: top;\n",
       "    }\n",
       "\n",
       "    .dataframe thead th {\n",
       "        text-align: right;\n",
       "    }\n",
       "</style>\n",
       "<table border=\"1\" class=\"dataframe\">\n",
       "  <thead>\n",
       "    <tr style=\"text-align: right;\">\n",
       "      <th></th>\n",
       "      <th>sentence1</th>\n",
       "      <th>sentence2</th>\n",
       "      <th>gold_label</th>\n",
       "    </tr>\n",
       "  </thead>\n",
       "  <tbody>\n",
       "  </tbody>\n",
       "</table>\n",
       "</div>"
      ],
      "text/plain": [
       "Empty DataFrame\n",
       "Columns: [sentence1, sentence2, gold_label]\n",
       "Index: []"
      ]
     },
     "execution_count": 31,
     "metadata": {},
     "output_type": "execute_result"
    }
   ],
   "source": [
    "train_df[(train_df['sentence1'].str.split().str.len() == 1) | (train_df['sentence2'].str.split().str.len() == 1)]"
   ]
  },
  {
   "cell_type": "markdown",
   "metadata": {},
   "source": [
    "## Create function to decontract Short Form Words"
   ]
  },
  {
   "cell_type": "code",
   "execution_count": 32,
   "metadata": {
    "execution": {
     "iopub.execute_input": "2021-12-18T16:17:50.928875Z",
     "iopub.status.busy": "2021-12-18T16:17:50.928618Z",
     "iopub.status.idle": "2021-12-18T16:17:51.099261Z",
     "shell.execute_reply": "2021-12-18T16:17:51.098451Z",
     "shell.execute_reply.started": "2021-12-18T16:17:50.928846Z"
    }
   },
   "outputs": [
    {
     "name": "stdout",
     "output_type": "stream",
     "text": [
      "[nltk_data] Downloading package stopwords to /usr/share/nltk_data...\n",
      "[nltk_data]   Package stopwords is already up-to-date!\n",
      "[nltk_data] Downloading package punkt to /usr/share/nltk_data...\n",
      "[nltk_data]   Package punkt is already up-to-date!\n",
      "[nltk_data] Downloading package wordnet to /usr/share/nltk_data...\n",
      "[nltk_data]   Package wordnet is already up-to-date!\n"
     ]
    }
   ],
   "source": [
    "import nltk\n",
    "nltk.download('stopwords')\n",
    "nltk.download('punkt')\n",
    "nltk.download('wordnet')\n",
    "from nltk.corpus import stopwords\n",
    "from nltk.stem import WordNetLemmatizer \n",
    "from string import punctuation"
   ]
  },
  {
   "cell_type": "code",
   "execution_count": 33,
   "metadata": {
    "execution": {
     "iopub.execute_input": "2021-12-18T16:18:13.733541Z",
     "iopub.status.busy": "2021-12-18T16:18:13.733275Z",
     "iopub.status.idle": "2021-12-18T16:18:13.742713Z",
     "shell.execute_reply": "2021-12-18T16:18:13.741706Z",
     "shell.execute_reply.started": "2021-12-18T16:18:13.733511Z"
    }
   },
   "outputs": [],
   "source": [
    "def clean_text(text, stop_words = False, lemmatization = False):\n",
    "    #text = text.lower().split()\n",
    "    if stop_words:\n",
    "        stop = stopwords.words('english')\n",
    "        stops = set(stopwords.words(\"english\"))\n",
    "        text = [w for w in text if not w in stops]\n",
    "  \n",
    "    #text = \" \".join(text)\n",
    "    #text = re.sub(\"[^A-Za-z']+\", ' ', str(text)).replace(\"'\", '')\n",
    "    text = re.sub(r\"\\bum*\\b\", \"\", text)\n",
    "    text = re.sub(r\"\\buh*\\b\", \"\", text)\n",
    "    text = re.sub(r\"won\\'t\", \"will not\", text)\n",
    "    text = re.sub(r\"can\\'t\", \"can not\", text)\n",
    "    text = re.sub(r\"can\\'t\", \"can not\", text)\n",
    "    text = re.sub(r\"n\\'t\", \" not\", text)\n",
    "    text = re.sub(r\"\\'re\", \" are\", text)\n",
    "    text = re.sub(r\"\\'s\", \" is\", text)\n",
    "    text = re.sub(r\"\\'d\", \" would\", text)\n",
    "    text = re.sub(r\"\\'ll\", \" will\", text)\n",
    "    text = re.sub(r\"\\'t\", \" not\", text)\n",
    "    text = re.sub(r\"\\'ve\", \" have\", text)\n",
    "    text = re.sub(r\"\\'m\", \" am\", text)\n",
    "    if lemmatization:\n",
    "        lemmatizer = WordNetLemmatizer()\n",
    "        text = ' '.join([lemmatizer.lemmatize(w) for w in word_tokenize(text)])\n",
    "    #text = text.translate(str.maketrans('', '', punctuation))\n",
    "    \n",
    "    return text"
   ]
  },
  {
   "cell_type": "code",
   "execution_count": 38,
   "metadata": {
    "execution": {
     "iopub.execute_input": "2021-12-18T16:20:18.467329Z",
     "iopub.status.busy": "2021-12-18T16:20:18.467083Z",
     "iopub.status.idle": "2021-12-18T16:20:22.300546Z",
     "shell.execute_reply": "2021-12-18T16:20:22.299689Z",
     "shell.execute_reply.started": "2021-12-18T16:20:18.467301Z"
    }
   },
   "outputs": [],
   "source": [
    "train_df['sentence1'] = train_df['sentence1'].apply(lambda text: clean_text(text))\n",
    "train_df['sentence2'] = train_df['sentence2'].apply(lambda text: clean_text(text))\n",
    "val_df['sentence1'] = val_df['sentence1'].apply(lambda text: clean_text(text))\n",
    "val_df['sentence2'] = val_df['sentence2'].apply(lambda text: clean_text(text))"
   ]
  },
  {
   "cell_type": "code",
   "execution_count": 39,
   "metadata": {
    "execution": {
     "iopub.execute_input": "2021-12-18T16:20:30.923232Z",
     "iopub.status.busy": "2021-12-18T16:20:30.922937Z",
     "iopub.status.idle": "2021-12-18T16:20:30.944560Z",
     "shell.execute_reply": "2021-12-18T16:20:30.943828Z",
     "shell.execute_reply.started": "2021-12-18T16:20:30.923201Z"
    }
   },
   "outputs": [
    {
     "data": {
      "text/html": [
       "<div>\n",
       "<style scoped>\n",
       "    .dataframe tbody tr th:only-of-type {\n",
       "        vertical-align: middle;\n",
       "    }\n",
       "\n",
       "    .dataframe tbody tr th {\n",
       "        vertical-align: top;\n",
       "    }\n",
       "\n",
       "    .dataframe thead th {\n",
       "        text-align: right;\n",
       "    }\n",
       "</style>\n",
       "<table border=\"1\" class=\"dataframe\">\n",
       "  <thead>\n",
       "    <tr style=\"text-align: right;\">\n",
       "      <th></th>\n",
       "      <th>sentence1</th>\n",
       "      <th>sentence2</th>\n",
       "      <th>gold_label</th>\n",
       "    </tr>\n",
       "  </thead>\n",
       "  <tbody>\n",
       "    <tr>\n",
       "      <th>0</th>\n",
       "      <td>A person on a horse jumps over a broken down a...</td>\n",
       "      <td>A person is training his horse for a competition.</td>\n",
       "      <td>neutral</td>\n",
       "    </tr>\n",
       "    <tr>\n",
       "      <th>1</th>\n",
       "      <td>A person on a horse jumps over a broken down a...</td>\n",
       "      <td>A person is at a diner, ordering an omelette.</td>\n",
       "      <td>contradiction</td>\n",
       "    </tr>\n",
       "    <tr>\n",
       "      <th>2</th>\n",
       "      <td>A person on a horse jumps over a broken down a...</td>\n",
       "      <td>A person is outdoors, on a horse.</td>\n",
       "      <td>entailment</td>\n",
       "    </tr>\n",
       "    <tr>\n",
       "      <th>3</th>\n",
       "      <td>Children smiling and waving at camera</td>\n",
       "      <td>They are smiling at their parents</td>\n",
       "      <td>neutral</td>\n",
       "    </tr>\n",
       "    <tr>\n",
       "      <th>4</th>\n",
       "      <td>Children smiling and waving at camera</td>\n",
       "      <td>There are children present</td>\n",
       "      <td>entailment</td>\n",
       "    </tr>\n",
       "  </tbody>\n",
       "</table>\n",
       "</div>"
      ],
      "text/plain": [
       "                                           sentence1  \\\n",
       "0  A person on a horse jumps over a broken down a...   \n",
       "1  A person on a horse jumps over a broken down a...   \n",
       "2  A person on a horse jumps over a broken down a...   \n",
       "3              Children smiling and waving at camera   \n",
       "4              Children smiling and waving at camera   \n",
       "\n",
       "                                           sentence2     gold_label  \n",
       "0  A person is training his horse for a competition.        neutral  \n",
       "1      A person is at a diner, ordering an omelette.  contradiction  \n",
       "2                  A person is outdoors, on a horse.     entailment  \n",
       "3                  They are smiling at their parents        neutral  \n",
       "4                         There are children present     entailment  "
      ]
     },
     "execution_count": 39,
     "metadata": {},
     "output_type": "execute_result"
    }
   ],
   "source": [
    "train_df.head()"
   ]
  },
  {
   "cell_type": "code",
   "execution_count": 41,
   "metadata": {
    "execution": {
     "iopub.execute_input": "2021-12-18T16:21:08.454874Z",
     "iopub.status.busy": "2021-12-18T16:21:08.454417Z",
     "iopub.status.idle": "2021-12-18T16:21:08.467204Z",
     "shell.execute_reply": "2021-12-18T16:21:08.466545Z",
     "shell.execute_reply.started": "2021-12-18T16:21:08.454840Z"
    }
   },
   "outputs": [
    {
     "data": {
      "text/html": [
       "<div>\n",
       "<style scoped>\n",
       "    .dataframe tbody tr th:only-of-type {\n",
       "        vertical-align: middle;\n",
       "    }\n",
       "\n",
       "    .dataframe tbody tr th {\n",
       "        vertical-align: top;\n",
       "    }\n",
       "\n",
       "    .dataframe thead th {\n",
       "        text-align: right;\n",
       "    }\n",
       "</style>\n",
       "<table border=\"1\" class=\"dataframe\">\n",
       "  <thead>\n",
       "    <tr style=\"text-align: right;\">\n",
       "      <th></th>\n",
       "      <th>sentence1</th>\n",
       "      <th>sentence2</th>\n",
       "      <th>gold_label</th>\n",
       "    </tr>\n",
       "  </thead>\n",
       "  <tbody>\n",
       "    <tr>\n",
       "      <th>0</th>\n",
       "      <td>Two women are embracing while holding to go pa...</td>\n",
       "      <td>The sisters are hugging goodbye while holding ...</td>\n",
       "      <td>neutral</td>\n",
       "    </tr>\n",
       "    <tr>\n",
       "      <th>1</th>\n",
       "      <td>Two women are embracing while holding to go pa...</td>\n",
       "      <td>Two woman are holding packages.</td>\n",
       "      <td>entailment</td>\n",
       "    </tr>\n",
       "    <tr>\n",
       "      <th>2</th>\n",
       "      <td>Two women are embracing while holding to go pa...</td>\n",
       "      <td>The men are fighting outside a deli.</td>\n",
       "      <td>contradiction</td>\n",
       "    </tr>\n",
       "    <tr>\n",
       "      <th>3</th>\n",
       "      <td>Two young children in blue jerseys, one with t...</td>\n",
       "      <td>Two kids in numbered jerseys wash their hands.</td>\n",
       "      <td>entailment</td>\n",
       "    </tr>\n",
       "    <tr>\n",
       "      <th>4</th>\n",
       "      <td>Two young children in blue jerseys, one with t...</td>\n",
       "      <td>Two kids at a ballgame wash their hands.</td>\n",
       "      <td>neutral</td>\n",
       "    </tr>\n",
       "  </tbody>\n",
       "</table>\n",
       "</div>"
      ],
      "text/plain": [
       "                                           sentence1  \\\n",
       "0  Two women are embracing while holding to go pa...   \n",
       "1  Two women are embracing while holding to go pa...   \n",
       "2  Two women are embracing while holding to go pa...   \n",
       "3  Two young children in blue jerseys, one with t...   \n",
       "4  Two young children in blue jerseys, one with t...   \n",
       "\n",
       "                                           sentence2     gold_label  \n",
       "0  The sisters are hugging goodbye while holding ...        neutral  \n",
       "1                    Two woman are holding packages.     entailment  \n",
       "2               The men are fighting outside a deli.  contradiction  \n",
       "3     Two kids in numbered jerseys wash their hands.     entailment  \n",
       "4           Two kids at a ballgame wash their hands.        neutral  "
      ]
     },
     "execution_count": 41,
     "metadata": {},
     "output_type": "execute_result"
    }
   ],
   "source": [
    "val_df.head()"
   ]
  },
  {
   "cell_type": "markdown",
   "metadata": {},
   "source": [
    "## Exploratory Data Analysis"
   ]
  },
  {
   "cell_type": "code",
   "execution_count": 42,
   "metadata": {
    "execution": {
     "iopub.execute_input": "2021-12-18T16:21:40.920196Z",
     "iopub.status.busy": "2021-12-18T16:21:40.919659Z",
     "iopub.status.idle": "2021-12-18T16:21:40.926207Z",
     "shell.execute_reply": "2021-12-18T16:21:40.925503Z",
     "shell.execute_reply.started": "2021-12-18T16:21:40.920158Z"
    }
   },
   "outputs": [],
   "source": [
    "train_textlength = train_df.copy()"
   ]
  },
  {
   "cell_type": "code",
   "execution_count": 43,
   "metadata": {
    "execution": {
     "iopub.execute_input": "2021-12-18T16:21:49.365515Z",
     "iopub.status.busy": "2021-12-18T16:21:49.365236Z",
     "iopub.status.idle": "2021-12-18T16:21:49.982006Z",
     "shell.execute_reply": "2021-12-18T16:21:49.981280Z",
     "shell.execute_reply.started": "2021-12-18T16:21:49.365484Z"
    }
   },
   "outputs": [],
   "source": [
    "train_textlength['text_length1'] = [len(x) for x in train_textlength['sentence1'].str.split(' ')]\n",
    "train_textlength['text_length2'] = [len(y) for y in train_textlength['sentence2'].str.split(' ')]"
   ]
  },
  {
   "cell_type": "code",
   "execution_count": 44,
   "metadata": {
    "execution": {
     "iopub.execute_input": "2021-12-18T16:21:57.929518Z",
     "iopub.status.busy": "2021-12-18T16:21:57.929000Z",
     "iopub.status.idle": "2021-12-18T16:21:57.940180Z",
     "shell.execute_reply": "2021-12-18T16:21:57.939361Z",
     "shell.execute_reply.started": "2021-12-18T16:21:57.929480Z"
    }
   },
   "outputs": [
    {
     "data": {
      "text/html": [
       "<div>\n",
       "<style scoped>\n",
       "    .dataframe tbody tr th:only-of-type {\n",
       "        vertical-align: middle;\n",
       "    }\n",
       "\n",
       "    .dataframe tbody tr th {\n",
       "        vertical-align: top;\n",
       "    }\n",
       "\n",
       "    .dataframe thead th {\n",
       "        text-align: right;\n",
       "    }\n",
       "</style>\n",
       "<table border=\"1\" class=\"dataframe\">\n",
       "  <thead>\n",
       "    <tr style=\"text-align: right;\">\n",
       "      <th></th>\n",
       "      <th>sentence1</th>\n",
       "      <th>sentence2</th>\n",
       "      <th>gold_label</th>\n",
       "      <th>text_length1</th>\n",
       "      <th>text_length2</th>\n",
       "    </tr>\n",
       "  </thead>\n",
       "  <tbody>\n",
       "    <tr>\n",
       "      <th>0</th>\n",
       "      <td>A person on a horse jumps over a broken down a...</td>\n",
       "      <td>A person is training his horse for a competition.</td>\n",
       "      <td>neutral</td>\n",
       "      <td>11</td>\n",
       "      <td>9</td>\n",
       "    </tr>\n",
       "    <tr>\n",
       "      <th>1</th>\n",
       "      <td>A person on a horse jumps over a broken down a...</td>\n",
       "      <td>A person is at a diner, ordering an omelette.</td>\n",
       "      <td>contradiction</td>\n",
       "      <td>11</td>\n",
       "      <td>9</td>\n",
       "    </tr>\n",
       "    <tr>\n",
       "      <th>2</th>\n",
       "      <td>A person on a horse jumps over a broken down a...</td>\n",
       "      <td>A person is outdoors, on a horse.</td>\n",
       "      <td>entailment</td>\n",
       "      <td>11</td>\n",
       "      <td>7</td>\n",
       "    </tr>\n",
       "    <tr>\n",
       "      <th>3</th>\n",
       "      <td>Children smiling and waving at camera</td>\n",
       "      <td>They are smiling at their parents</td>\n",
       "      <td>neutral</td>\n",
       "      <td>6</td>\n",
       "      <td>6</td>\n",
       "    </tr>\n",
       "    <tr>\n",
       "      <th>4</th>\n",
       "      <td>Children smiling and waving at camera</td>\n",
       "      <td>There are children present</td>\n",
       "      <td>entailment</td>\n",
       "      <td>6</td>\n",
       "      <td>4</td>\n",
       "    </tr>\n",
       "  </tbody>\n",
       "</table>\n",
       "</div>"
      ],
      "text/plain": [
       "                                           sentence1  \\\n",
       "0  A person on a horse jumps over a broken down a...   \n",
       "1  A person on a horse jumps over a broken down a...   \n",
       "2  A person on a horse jumps over a broken down a...   \n",
       "3              Children smiling and waving at camera   \n",
       "4              Children smiling and waving at camera   \n",
       "\n",
       "                                           sentence2     gold_label  \\\n",
       "0  A person is training his horse for a competition.        neutral   \n",
       "1      A person is at a diner, ordering an omelette.  contradiction   \n",
       "2                  A person is outdoors, on a horse.     entailment   \n",
       "3                  They are smiling at their parents        neutral   \n",
       "4                         There are children present     entailment   \n",
       "\n",
       "   text_length1  text_length2  \n",
       "0            11             9  \n",
       "1            11             9  \n",
       "2            11             7  \n",
       "3             6             6  \n",
       "4             6             4  "
      ]
     },
     "execution_count": 44,
     "metadata": {},
     "output_type": "execute_result"
    }
   ],
   "source": [
    "train_textlength.head()"
   ]
  },
  {
   "cell_type": "code",
   "execution_count": 45,
   "metadata": {
    "execution": {
     "iopub.execute_input": "2021-12-18T16:23:10.315509Z",
     "iopub.status.busy": "2021-12-18T16:23:10.315238Z",
     "iopub.status.idle": "2021-12-18T16:23:10.356484Z",
     "shell.execute_reply": "2021-12-18T16:23:10.355842Z",
     "shell.execute_reply.started": "2021-12-18T16:23:10.315478Z"
    }
   },
   "outputs": [
    {
     "data": {
      "text/html": [
       "<div>\n",
       "<style scoped>\n",
       "    .dataframe tbody tr th:only-of-type {\n",
       "        vertical-align: middle;\n",
       "    }\n",
       "\n",
       "    .dataframe tbody tr th {\n",
       "        vertical-align: top;\n",
       "    }\n",
       "\n",
       "    .dataframe thead th {\n",
       "        text-align: right;\n",
       "    }\n",
       "</style>\n",
       "<table border=\"1\" class=\"dataframe\">\n",
       "  <thead>\n",
       "    <tr style=\"text-align: right;\">\n",
       "      <th></th>\n",
       "      <th>count</th>\n",
       "      <th>mean</th>\n",
       "      <th>std</th>\n",
       "      <th>min</th>\n",
       "      <th>25%</th>\n",
       "      <th>50%</th>\n",
       "      <th>75%</th>\n",
       "      <th>max</th>\n",
       "    </tr>\n",
       "    <tr>\n",
       "      <th>gold_label</th>\n",
       "      <th></th>\n",
       "      <th></th>\n",
       "      <th></th>\n",
       "      <th></th>\n",
       "      <th></th>\n",
       "      <th></th>\n",
       "      <th></th>\n",
       "      <th></th>\n",
       "    </tr>\n",
       "  </thead>\n",
       "  <tbody>\n",
       "    <tr>\n",
       "      <th>contradiction</th>\n",
       "      <td>33308.0</td>\n",
       "      <td>12.792843</td>\n",
       "      <td>5.674926</td>\n",
       "      <td>2.0</td>\n",
       "      <td>9.0</td>\n",
       "      <td>12.0</td>\n",
       "      <td>16.0</td>\n",
       "      <td>78.0</td>\n",
       "    </tr>\n",
       "    <tr>\n",
       "      <th>entailment</th>\n",
       "      <td>33383.0</td>\n",
       "      <td>12.795764</td>\n",
       "      <td>5.677600</td>\n",
       "      <td>2.0</td>\n",
       "      <td>9.0</td>\n",
       "      <td>12.0</td>\n",
       "      <td>16.0</td>\n",
       "      <td>78.0</td>\n",
       "    </tr>\n",
       "    <tr>\n",
       "      <th>neutral</th>\n",
       "      <td>33193.0</td>\n",
       "      <td>12.799446</td>\n",
       "      <td>5.685541</td>\n",
       "      <td>2.0</td>\n",
       "      <td>9.0</td>\n",
       "      <td>12.0</td>\n",
       "      <td>16.0</td>\n",
       "      <td>78.0</td>\n",
       "    </tr>\n",
       "  </tbody>\n",
       "</table>\n",
       "</div>"
      ],
      "text/plain": [
       "                 count       mean       std  min  25%   50%   75%   max\n",
       "gold_label                                                             \n",
       "contradiction  33308.0  12.792843  5.674926  2.0  9.0  12.0  16.0  78.0\n",
       "entailment     33383.0  12.795764  5.677600  2.0  9.0  12.0  16.0  78.0\n",
       "neutral        33193.0  12.799446  5.685541  2.0  9.0  12.0  16.0  78.0"
      ]
     },
     "execution_count": 45,
     "metadata": {},
     "output_type": "execute_result"
    }
   ],
   "source": [
    "# text length statistics grouped by label\n",
    "train_textlength['text_length1'].groupby(train_textlength['gold_label']).describe()"
   ]
  },
  {
   "cell_type": "code",
   "execution_count": 46,
   "metadata": {
    "execution": {
     "iopub.execute_input": "2021-12-18T16:23:41.474724Z",
     "iopub.status.busy": "2021-12-18T16:23:41.474309Z",
     "iopub.status.idle": "2021-12-18T16:23:41.511826Z",
     "shell.execute_reply": "2021-12-18T16:23:41.511065Z",
     "shell.execute_reply.started": "2021-12-18T16:23:41.474691Z"
    }
   },
   "outputs": [
    {
     "data": {
      "text/html": [
       "<div>\n",
       "<style scoped>\n",
       "    .dataframe tbody tr th:only-of-type {\n",
       "        vertical-align: middle;\n",
       "    }\n",
       "\n",
       "    .dataframe tbody tr th {\n",
       "        vertical-align: top;\n",
       "    }\n",
       "\n",
       "    .dataframe thead th {\n",
       "        text-align: right;\n",
       "    }\n",
       "</style>\n",
       "<table border=\"1\" class=\"dataframe\">\n",
       "  <thead>\n",
       "    <tr style=\"text-align: right;\">\n",
       "      <th></th>\n",
       "      <th>count</th>\n",
       "      <th>mean</th>\n",
       "      <th>std</th>\n",
       "      <th>min</th>\n",
       "      <th>25%</th>\n",
       "      <th>50%</th>\n",
       "      <th>75%</th>\n",
       "      <th>max</th>\n",
       "    </tr>\n",
       "    <tr>\n",
       "      <th>gold_label</th>\n",
       "      <th></th>\n",
       "      <th></th>\n",
       "      <th></th>\n",
       "      <th></th>\n",
       "      <th></th>\n",
       "      <th></th>\n",
       "      <th></th>\n",
       "      <th></th>\n",
       "    </tr>\n",
       "  </thead>\n",
       "  <tbody>\n",
       "    <tr>\n",
       "      <th>contradiction</th>\n",
       "      <td>33308.0</td>\n",
       "      <td>7.345803</td>\n",
       "      <td>2.794828</td>\n",
       "      <td>2.0</td>\n",
       "      <td>6.0</td>\n",
       "      <td>7.0</td>\n",
       "      <td>9.0</td>\n",
       "      <td>35.0</td>\n",
       "    </tr>\n",
       "    <tr>\n",
       "      <th>entailment</th>\n",
       "      <td>33383.0</td>\n",
       "      <td>6.603720</td>\n",
       "      <td>2.732621</td>\n",
       "      <td>2.0</td>\n",
       "      <td>5.0</td>\n",
       "      <td>6.0</td>\n",
       "      <td>8.0</td>\n",
       "      <td>43.0</td>\n",
       "    </tr>\n",
       "    <tr>\n",
       "      <th>neutral</th>\n",
       "      <td>33193.0</td>\n",
       "      <td>8.248456</td>\n",
       "      <td>3.381236</td>\n",
       "      <td>2.0</td>\n",
       "      <td>6.0</td>\n",
       "      <td>8.0</td>\n",
       "      <td>10.0</td>\n",
       "      <td>38.0</td>\n",
       "    </tr>\n",
       "  </tbody>\n",
       "</table>\n",
       "</div>"
      ],
      "text/plain": [
       "                 count      mean       std  min  25%  50%   75%   max\n",
       "gold_label                                                           \n",
       "contradiction  33308.0  7.345803  2.794828  2.0  6.0  7.0   9.0  35.0\n",
       "entailment     33383.0  6.603720  2.732621  2.0  5.0  6.0   8.0  43.0\n",
       "neutral        33193.0  8.248456  3.381236  2.0  6.0  8.0  10.0  38.0"
      ]
     },
     "execution_count": 46,
     "metadata": {},
     "output_type": "execute_result"
    }
   ],
   "source": [
    "train_textlength['text_length2'].groupby(train_textlength['gold_label']).describe()"
   ]
  },
  {
   "cell_type": "code",
   "execution_count": 48,
   "metadata": {
    "execution": {
     "iopub.execute_input": "2021-12-18T16:26:56.210329Z",
     "iopub.status.busy": "2021-12-18T16:26:56.210082Z",
     "iopub.status.idle": "2021-12-18T16:26:56.215420Z",
     "shell.execute_reply": "2021-12-18T16:26:56.214725Z",
     "shell.execute_reply.started": "2021-12-18T16:26:56.210301Z"
    }
   },
   "outputs": [],
   "source": [
    "import matplotlib\n",
    "import matplotlib.pyplot as plt\n",
    "%matplotlib inline"
   ]
  },
  {
   "cell_type": "code",
   "execution_count": 49,
   "metadata": {
    "execution": {
     "iopub.execute_input": "2021-12-18T16:26:58.133378Z",
     "iopub.status.busy": "2021-12-18T16:26:58.132831Z",
     "iopub.status.idle": "2021-12-18T16:26:58.978820Z",
     "shell.execute_reply": "2021-12-18T16:26:58.978157Z",
     "shell.execute_reply.started": "2021-12-18T16:26:58.133339Z"
    }
   },
   "outputs": [
    {
     "data": {
      "text/plain": [
       "Text(0.5, 0, 'Label')"
      ]
     },
     "execution_count": 49,
     "metadata": {},
     "output_type": "execute_result"
    },
    {
     "data": {
      "image/png": "[encoded data removed]",
      "text/plain": [
       "<Figure size 576x432 with 1 Axes>"
      ]
     },
     "metadata": {
      "needs_background": "light"
     },
     "output_type": "display_data"
    }
   ],
   "source": [
    "# Plot distribution of review length\n",
    "plt.figure(figsize = (8,6))\n",
    "sns.violinplot(x='gold_label', y='text_length1', data=train_textlength)\n",
    "\n",
    "# Plot formatting\n",
    "plt.title('Distribution of Text Length', size=16)\n",
    "plt.ylabel(\"Text length\", size=12)\n",
    "plt.xlabel(\"Label\", size=12)"
   ]
  },
  {
   "cell_type": "code",
   "execution_count": 50,
   "metadata": {
    "execution": {
     "iopub.execute_input": "2021-12-18T16:27:19.444940Z",
     "iopub.status.busy": "2021-12-18T16:27:19.444200Z",
     "iopub.status.idle": "2021-12-18T16:27:20.158665Z",
     "shell.execute_reply": "2021-12-18T16:27:20.157999Z",
     "shell.execute_reply.started": "2021-12-18T16:27:19.444889Z"
    }
   },
   "outputs": [
    {
     "data": {
      "text/plain": [
       "Text(0.5, 0, 'Label')"
      ]
     },
     "execution_count": 50,
     "metadata": {},
     "output_type": "execute_result"
    },
    {
     "data": {
      "image/png": "[encoded data removed]",
      "text/plain": [
       "<Figure size 576x432 with 1 Axes>"
      ]
     },
     "metadata": {
      "needs_background": "light"
     },
     "output_type": "display_data"
    }
   ],
   "source": [
    "# Plot distribution of review length\n",
    "plt.figure(figsize = (8,6))\n",
    "sns.violinplot(x='gold_label', y='text_length2', data=train_textlength)\n",
    "\n",
    "# Plot formatting\n",
    "plt.title('Distribution of Text Length', size=16)\n",
    "plt.ylabel(\"Text length\", size=12)\n",
    "plt.xlabel(\"Label\", size=12)"
   ]
  },
  {
   "cell_type": "code",
   "execution_count": 51,
   "metadata": {
    "execution": {
     "iopub.execute_input": "2021-12-18T16:28:44.228308Z",
     "iopub.status.busy": "2021-12-18T16:28:44.227765Z",
     "iopub.status.idle": "2021-12-18T16:28:44.528093Z",
     "shell.execute_reply": "2021-12-18T16:28:44.527338Z",
     "shell.execute_reply.started": "2021-12-18T16:28:44.228269Z"
    }
   },
   "outputs": [
    {
     "name": "stderr",
     "output_type": "stream",
     "text": [
      "/opt/conda/lib/python3.7/site-packages/seaborn/_decorators.py:43: FutureWarning: Pass the following variable as a keyword arg: x. From version 0.12, the only valid positional argument will be `data`, and passing other arguments without an explicit keyword will result in an error or misinterpretation.\n",
      "  FutureWarning\n"
     ]
    },
    {
     "data": {
      "text/plain": [
       "<AxesSubplot:xlabel='gold_label', ylabel='count'>"
      ]
     },
     "execution_count": 51,
     "metadata": {},
     "output_type": "execute_result"
    },
    {
     "data": {
      "image/png": "[encoded data removed]",
      "text/plain": [
       "<Figure size 576x432 with 1 Axes>"
      ]
     },
     "metadata": {},
     "output_type": "display_data"
    }
   ],
   "source": [
    "sns.set_style(\"whitegrid\")\n",
    "sns.set(rc={'figure.figsize':(8,6)})\n",
    "\n",
    "sns.countplot(train_textlength['gold_label'],order=train_textlength['gold_label'].value_counts().index,palette='Set3')"
   ]
  }
 ],
 "metadata": {
  "kernelspec": {
   "display_name": "Python 3",
   "language": "python",
   "name": "python3"
  },
  "language_info": {
   "codemirror_mode": {
    "name": "ipython",
    "version": 3
   },
   "file_extension": ".py",
   "mimetype": "text/x-python",
   "name": "python",
   "nbconvert_exporter": "python",
   "pygments_lexer": "ipython3",
   "version": "3.7.3"
  },
  "toc": {
   "base_numbering": 1,
   "nav_menu": {},
   "number_sections": true,
   "sideBar": true,
   "skip_h1_title": false,
   "title_cell": "Table of Contents",
   "title_sidebar": "Contents",
   "toc_cell": false,
   "toc_position": {},
   "toc_section_display": true,
   "toc_window_display": false
  },
  "varInspector": {
   "cols": {
    "lenName": 16,
    "lenType": 16,
    "lenVar": 40
   },
   "kernels_config": {
    "python": {
     "delete_cmd_postfix": "",
     "delete_cmd_prefix": "del ",
     "library": "var_list.py",
     "varRefreshCmd": "print(var_dic_list())"
    },
    "r": {
     "delete_cmd_postfix": ") ",
     "delete_cmd_prefix": "rm(",
     "library": "var_list.r",
     "varRefreshCmd": "cat(var_dic_list()) "
    }
   },
   "types_to_exclude": [
    "module",
    "function",
    "builtin_function_or_method",
    "instance",
    "_Feature"
   ],
   "window_display": false
  }
 },
 "nbformat": 4,
 "nbformat_minor": 4
}
