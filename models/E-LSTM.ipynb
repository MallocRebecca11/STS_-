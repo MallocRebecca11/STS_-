{
 "cells": [
  {
   "cell_type": "code",
   "execution_count": 1,
   "id": "a117981a",
   "metadata": {
    "_cell_guid": "b1076dfc-b9ad-4769-8c92-a6c4dae69d19",
    "_uuid": "8f2839f25d086af736a60e9eeb907d3b93b6e0e5",
    "execution": {
     "iopub.execute_input": "2021-12-07T15:22:48.288166Z",
     "iopub.status.busy": "2021-12-07T15:22:48.286192Z",
     "iopub.status.idle": "2021-12-07T15:22:48.366791Z",
     "shell.execute_reply": "2021-12-07T15:22:48.367574Z"
    },
    "papermill": {
     "duration": 0.141312,
     "end_time": "2021-12-07T15:22:48.368027",
     "exception": false,
     "start_time": "2021-12-07T15:22:48.226715",
     "status": "completed"
    },
    "tags": []
   },
   "outputs": [
    {
     "name": "stdout",
     "output_type": "stream",
     "text": [
      "/kaggle/input/glove840b300dtxt/glove.840B.300d.txt\n",
      "/kaggle/input/snli-data/SNLI/test.txt\n",
      "/kaggle/input/snli-data/SNLI/ReadMe.txt\n",
      "/kaggle/input/snli-data/SNLI/train.txt\n",
      "/kaggle/input/snli-data/SNLI/dev.txt\n"
     ]
    }
   ],
   "source": [
    "# This Python 3 environment comes with many helpful analytics libraries installed\n",
    "# It is defined by the kaggle/python Docker image: https://github.com/kaggle/docker-python\n",
    "# For example, here's several helpful packages to load\n",
    "\n",
    "import numpy as np # linear algebra\n",
    "import pandas as pd # data processing, CSV file I/O (e.g. pd.read_csv)\n",
    "\n",
    "# Input data files are available in the read-only \"../input/\" directory\n",
    "# For example, running this (by clicking run or pressing Shift+Enter) will list all files under the input directory\n",
    "\n",
    "import os\n",
    "for dirname, _, filenames in os.walk('/kaggle/input'):\n",
    "    for filename in filenames:\n",
    "        print(os.path.join(dirname, filename))\n",
    "\n",
    "# You can write up to 20GB to the current directory (/kaggle/working/) that gets preserved as output when you create a version using \"Save & Run All\" \n",
    "# You can also write temporary files to /kaggle/temp/, but they won't be saved outside of the current session"
   ]
  },
  {
   "cell_type": "code",
   "execution_count": 2,
   "id": "ec44ebcd",
   "metadata": {
    "execution": {
     "iopub.execute_input": "2021-12-07T15:22:48.473965Z",
     "iopub.status.busy": "2021-12-07T15:22:48.472077Z",
     "iopub.status.idle": "2021-12-07T15:22:54.138648Z",
     "shell.execute_reply": "2021-12-07T15:22:54.137526Z",
     "shell.execute_reply.started": "2021-12-07T14:05:39.303536Z"
    },
    "papermill": {
     "duration": 5.721441,
     "end_time": "2021-12-07T15:22:54.138828",
     "exception": false,
     "start_time": "2021-12-07T15:22:48.417387",
     "status": "completed"
    },
    "tags": []
   },
   "outputs": [],
   "source": [
    "import pickle\n",
    "from keras.preprocessing.text import Tokenizer\n",
    "from keras.preprocessing.sequence import pad_sequences\n",
    "import keras.backend as K\n",
    "from keras.layers import LSTM, Input, Dot, Softmax, Multiply, Concatenate, Subtract, Dense, Lambda, Embedding, Dropout\n",
    "from keras.layers.wrappers import Bidirectional\n",
    "from keras.models import Model, load_model"
   ]
  },
  {
   "cell_type": "code",
   "execution_count": 3,
   "id": "e16d0340",
   "metadata": {
    "execution": {
     "iopub.execute_input": "2021-12-07T15:22:54.173113Z",
     "iopub.status.busy": "2021-12-07T15:22:54.172137Z",
     "iopub.status.idle": "2021-12-07T15:23:57.014214Z",
     "shell.execute_reply": "2021-12-07T15:23:57.013414Z",
     "shell.execute_reply.started": "2021-12-07T14:06:36.924471Z"
    },
    "papermill": {
     "duration": 62.861287,
     "end_time": "2021-12-07T15:23:57.014425",
     "exception": false,
     "start_time": "2021-12-07T15:22:54.153138",
     "status": "completed"
    },
    "tags": []
   },
   "outputs": [
    {
     "name": "stdout",
     "output_type": "stream",
     "text": [
      "--2021-12-07 15:22:54--  https://nlp.stanford.edu/projects/snli/snli_1.0.zip\r\n",
      "Resolving nlp.stanford.edu (nlp.stanford.edu)... 171.64.67.140\r\n",
      "Connecting to nlp.stanford.edu (nlp.stanford.edu)|171.64.67.140|:443... connected.\r\n",
      "HTTP request sent, awaiting response... 200 OK\r\n",
      "Length: 94550081 (90M) [application/zip]\r\n",
      "Saving to: ‘snli_1.0.zip’\r\n",
      "\r\n",
      "snli_1.0.zip        100%[===================>]  90.17M  2.33MB/s    in 61s     \r\n",
      "\r\n",
      "2021-12-07 15:23:56 (1.47 MB/s) - ‘snli_1.0.zip’ saved [94550081/94550081]\r\n",
      "\r\n"
     ]
    }
   ],
   "source": [
    "!wget https://nlp.stanford.edu/projects/snli/snli_1.0.zip\n"
   ]
  },
  {
   "cell_type": "code",
   "execution_count": 4,
   "id": "ddad4e96",
   "metadata": {
    "execution": {
     "iopub.execute_input": "2021-12-07T15:23:57.196178Z",
     "iopub.status.busy": "2021-12-07T15:23:57.194493Z",
     "iopub.status.idle": "2021-12-07T15:24:03.352339Z",
     "shell.execute_reply": "2021-12-07T15:24:03.353025Z",
     "shell.execute_reply.started": "2021-12-07T14:07:17.301206Z"
    },
    "papermill": {
     "duration": 6.25117,
     "end_time": "2021-12-07T15:24:03.353267",
     "exception": false,
     "start_time": "2021-12-07T15:23:57.102097",
     "status": "completed"
    },
    "tags": []
   },
   "outputs": [
    {
     "name": "stdout",
     "output_type": "stream",
     "text": [
      "Archive:  snli_1.0.zip\r\n",
      "   creating: snli_1.0/\r\n",
      "  inflating: snli_1.0/.DS_Store      \r\n",
      "   creating: __MACOSX/\r\n",
      "   creating: __MACOSX/snli_1.0/\r\n",
      "  inflating: __MACOSX/snli_1.0/._.DS_Store  \r\n",
      " extracting: snli_1.0/Icon           \r\n",
      "  inflating: __MACOSX/snli_1.0/._Icon  \r\n",
      "  inflating: snli_1.0/README.txt     \r\n",
      "  inflating: __MACOSX/snli_1.0/._README.txt  \r\n",
      "  inflating: snli_1.0/snli_1.0_dev.jsonl  \r\n",
      "  inflating: snli_1.0/snli_1.0_dev.txt  \r\n",
      "  inflating: snli_1.0/snli_1.0_test.jsonl  \r\n",
      "  inflating: snli_1.0/snli_1.0_test.txt  \r\n",
      "  inflating: snli_1.0/snli_1.0_train.jsonl  \r\n",
      "  inflating: snli_1.0/snli_1.0_train.txt  \r\n",
      "  inflating: __MACOSX/._snli_1.0     \r\n"
     ]
    }
   ],
   "source": [
    "!unzip snli_1.0.zip"
   ]
  },
  {
   "cell_type": "code",
   "execution_count": 5,
   "id": "b09ede03",
   "metadata": {
    "execution": {
     "iopub.execute_input": "2021-12-07T15:24:03.534133Z",
     "iopub.status.busy": "2021-12-07T15:24:03.533030Z",
     "iopub.status.idle": "2021-12-07T15:24:03.536292Z",
     "shell.execute_reply": "2021-12-07T15:24:03.535682Z",
     "shell.execute_reply.started": "2021-12-07T14:07:35.701110Z"
    },
    "papermill": {
     "duration": 0.095337,
     "end_time": "2021-12-07T15:24:03.536482",
     "exception": false,
     "start_time": "2021-12-07T15:24:03.441145",
     "status": "completed"
    },
    "tags": []
   },
   "outputs": [],
   "source": [
    "from os.path import join as pjoin, isfile\n",
    "import json\n",
    "import numpy as np"
   ]
  },
  {
   "cell_type": "code",
   "execution_count": 6,
   "id": "945e6a96",
   "metadata": {
    "execution": {
     "iopub.execute_input": "2021-12-07T15:24:03.722960Z",
     "iopub.status.busy": "2021-12-07T15:24:03.721853Z",
     "iopub.status.idle": "2021-12-07T15:24:10.291205Z",
     "shell.execute_reply": "2021-12-07T15:24:10.292680Z",
     "shell.execute_reply.started": "2021-12-07T14:07:46.219818Z"
    },
    "papermill": {
     "duration": 6.666678,
     "end_time": "2021-12-07T15:24:10.292976",
     "exception": false,
     "start_time": "2021-12-07T15:24:03.626298",
     "status": "completed"
    },
    "tags": []
   },
   "outputs": [
    {
     "name": "stdout",
     "output_type": "stream",
     "text": [
      "# of train samples : 549367 | Entailment : 183416 | Neutral : 182764 | Contradiction : 183187\n",
      "# of dev samples : 9842 | Entailment : 3329 | Neutral : 3235 | Contradiction : 3278\n",
      "# of test samples : 9824 | Entailment : 3368 | Neutral : 3219 | Contradiction : 3237\n"
     ]
    }
   ],
   "source": [
    "TEXT_DATA_DIR = 'snli_1.0'\n",
    "\n",
    "def load_data(tier):\n",
    "    \n",
    "    premise = []\n",
    "    hypothseis = []\n",
    "    label = []\n",
    "    cnt = 0\n",
    "    \n",
    "    with open(pjoin(TEXT_DATA_DIR, 'snli_1.0_' + tier + '.jsonl')) as f:\n",
    "        for line in f.readlines():\n",
    "            d = json.loads(line)\n",
    "            if d['gold_label'] != '-':\n",
    "                cnt += 1\n",
    "                premise.append(d['sentence1'])\n",
    "                hypothseis.append(d['sentence2'])\n",
    "                label.append(d['gold_label'])\n",
    "\n",
    "    print('# of', tier, 'samples :', cnt, end=' | ')\n",
    "    print('Entailment :', label.count('entailment'), '| Neutral :', label.count('neutral'), '| Contradiction :', label.count('contradiction'))\n",
    "    return (premise, hypothseis, label)\n",
    "\n",
    "train = load_data('train')\n",
    "dev = load_data('dev')\n",
    "test = load_data('test')"
   ]
  },
  {
   "cell_type": "code",
   "execution_count": 7,
   "id": "f79560a8",
   "metadata": {
    "execution": {
     "iopub.execute_input": "2021-12-07T15:24:10.793677Z",
     "iopub.status.busy": "2021-12-07T15:24:10.766981Z",
     "iopub.status.idle": "2021-12-07T15:24:31.315954Z",
     "shell.execute_reply": "2021-12-07T15:24:31.315378Z",
     "shell.execute_reply.started": "2021-12-07T14:08:13.612956Z"
    },
    "papermill": {
     "duration": 20.816414,
     "end_time": "2021-12-07T15:24:31.316130",
     "exception": false,
     "start_time": "2021-12-07T15:24:10.499716",
     "status": "completed"
    },
    "tags": []
   },
   "outputs": [],
   "source": [
    "SentenceLen = 100\n",
    "WordVecLen = 300\n",
    "\n",
    "if not isfile('tokenizer.pickle'):\n",
    "    tokenizer = Tokenizer(num_words=SentenceLen)\n",
    "    tokenizer.fit_on_texts(train[0] + train[1] + dev[0] + dev[1] + test[0] + test[1])\n",
    "    with open('tokenizer.pickle', 'wb') as handle:\n",
    "        pickle.dump(tokenizer, handle, protocol=pickle.HIGHEST_PROTOCOL)\n",
    "\n",
    "tokenizer = pickle.load(open('tokenizer.pickle', 'rb'))\n",
    "\n",
    "def PadSeq(text):\n",
    "    sequences = tokenizer.texts_to_sequences(text)\n",
    "    return pad_sequences(sequences, maxlen=SentenceLen)"
   ]
  },
  {
   "cell_type": "code",
   "execution_count": 8,
   "id": "a1e8c634",
   "metadata": {
    "execution": {
     "iopub.execute_input": "2021-12-07T15:24:31.506095Z",
     "iopub.status.busy": "2021-12-07T15:24:31.499492Z",
     "iopub.status.idle": "2021-12-07T15:29:22.601520Z",
     "shell.execute_reply": "2021-12-07T15:29:22.600632Z",
     "shell.execute_reply.started": "2021-12-07T14:08:58.620904Z"
    },
    "papermill": {
     "duration": 291.195544,
     "end_time": "2021-12-07T15:29:22.601689",
     "exception": false,
     "start_time": "2021-12-07T15:24:31.406145",
     "status": "completed"
    },
    "tags": []
   },
   "outputs": [],
   "source": [
    "if not isfile('embeddings.npy'):\n",
    "\n",
    "    embeddings_index = {}\n",
    "    f = open('../input/glove840b300dtxt/glove.840B.300d.txt', encoding='utf8')\n",
    "    for line in f:\n",
    "        values = line.split()\n",
    "        word = ' '.join(values[:-300])\n",
    "        coefs = np.asarray(values[-300:], dtype='float32')\n",
    "        embeddings_index[word] = coefs\n",
    "    f.close()\n",
    "    \n",
    "    word_index = tokenizer.word_index\n",
    "\n",
    "    embedding_matrix = np.zeros((len(word_index) + 1, WordVecLen))\n",
    "    for word, i in word_index.items():\n",
    "        embedding_vector = embeddings_index.get(word)\n",
    "        if embedding_vector is not None:\n",
    "            embedding_matrix[i] = embedding_vector\n",
    "    \n",
    "    np.save('embeddings.npy', embedding_matrix)\n",
    "\n",
    "def load_embeddings():\n",
    "    embedding_matrix = np.load('embeddings.npy')\n",
    "    embedding_layer = Embedding(len(tokenizer.word_index) + 1,\n",
    "                                WordVecLen,\n",
    "                                weights=[embedding_matrix],\n",
    "                                input_length=SentenceLen,\n",
    "                                trainable=False)\n",
    "    return embedding_layer\n",
    "\n",
    "\n",
    "embedding_layer = load_embeddings()"
   ]
  },
  {
   "cell_type": "code",
   "execution_count": 9,
   "id": "b2db8fc3",
   "metadata": {
    "execution": {
     "iopub.execute_input": "2021-12-07T15:29:22.828612Z",
     "iopub.status.busy": "2021-12-07T15:29:22.787335Z",
     "iopub.status.idle": "2021-12-07T15:29:51.773841Z",
     "shell.execute_reply": "2021-12-07T15:29:51.772922Z",
     "shell.execute_reply.started": "2021-12-07T14:17:02.725235Z"
    },
    "papermill": {
     "duration": 29.08298,
     "end_time": "2021-12-07T15:29:51.774030",
     "exception": false,
     "start_time": "2021-12-07T15:29:22.691050",
     "status": "completed"
    },
    "tags": []
   },
   "outputs": [],
   "source": [
    "def labelToVec(labels):\n",
    "    vec = []\n",
    "    for label in labels:\n",
    "        if label == 'entailment':\n",
    "            vec.append([1.0, 0.0, 0.0])\n",
    "        elif label == 'contradiction':\n",
    "            vec.append([0.0, 1.0, 0.0])\n",
    "        elif label == 'neutral':\n",
    "            vec.append([0.0, 0.0, 1.0])\n",
    "        else:\n",
    "            raise ValueError('Unknown label %s' % (label))\n",
    "    return np.array(vec)\n",
    "\n",
    "train_y = labelToVec(train[2])\n",
    "train_x = [PadSeq(train[0]), PadSeq(train[1])]\n",
    "dev_y = labelToVec(dev[2])\n",
    "dev_x = [PadSeq(dev[0]), PadSeq(dev[1])]\n",
    "test_y = labelToVec(test[2])\n",
    "test_x = [PadSeq(test[0]), PadSeq(test[1])]\n",
    "\n",
    "del train\n",
    "del dev\n",
    "del test\n",
    "del tokenizer"
   ]
  },
  {
   "cell_type": "code",
   "execution_count": 10,
   "id": "b7bd13f5",
   "metadata": {
    "execution": {
     "iopub.execute_input": "2021-12-07T15:29:51.968328Z",
     "iopub.status.busy": "2021-12-07T15:29:51.962495Z",
     "iopub.status.idle": "2021-12-07T15:29:58.009383Z",
     "shell.execute_reply": "2021-12-07T15:29:58.010605Z",
     "shell.execute_reply.started": "2021-12-07T14:21:11.396779Z"
    },
    "papermill": {
     "duration": 6.149703,
     "end_time": "2021-12-07T15:29:58.010856",
     "exception": false,
     "start_time": "2021-12-07T15:29:51.861153",
     "status": "completed"
    },
    "tags": []
   },
   "outputs": [
    {
     "name": "stderr",
     "output_type": "stream",
     "text": [
      "2021-12-07 15:29:52.039066: I tensorflow/stream_executor/cuda/cuda_gpu_executor.cc:937] successful NUMA node read from SysFS had negative value (-1), but there must be at least one NUMA node, so returning NUMA node zero\n",
      "2021-12-07 15:29:52.173357: I tensorflow/stream_executor/cuda/cuda_gpu_executor.cc:937] successful NUMA node read from SysFS had negative value (-1), but there must be at least one NUMA node, so returning NUMA node zero\n",
      "2021-12-07 15:29:52.174543: I tensorflow/stream_executor/cuda/cuda_gpu_executor.cc:937] successful NUMA node read from SysFS had negative value (-1), but there must be at least one NUMA node, so returning NUMA node zero\n",
      "2021-12-07 15:29:52.178292: I tensorflow/core/platform/cpu_feature_guard.cc:142] This TensorFlow binary is optimized with oneAPI Deep Neural Network Library (oneDNN) to use the following CPU instructions in performance-critical operations:  AVX2 FMA\n",
      "To enable them in other operations, rebuild TensorFlow with the appropriate compiler flags.\n",
      "2021-12-07 15:29:52.178792: I tensorflow/stream_executor/cuda/cuda_gpu_executor.cc:937] successful NUMA node read from SysFS had negative value (-1), but there must be at least one NUMA node, so returning NUMA node zero\n",
      "2021-12-07 15:29:52.180030: I tensorflow/stream_executor/cuda/cuda_gpu_executor.cc:937] successful NUMA node read from SysFS had negative value (-1), but there must be at least one NUMA node, so returning NUMA node zero\n",
      "2021-12-07 15:29:52.181307: I tensorflow/stream_executor/cuda/cuda_gpu_executor.cc:937] successful NUMA node read from SysFS had negative value (-1), but there must be at least one NUMA node, so returning NUMA node zero\n",
      "2021-12-07 15:29:54.662763: I tensorflow/stream_executor/cuda/cuda_gpu_executor.cc:937] successful NUMA node read from SysFS had negative value (-1), but there must be at least one NUMA node, so returning NUMA node zero\n",
      "2021-12-07 15:29:54.663880: I tensorflow/stream_executor/cuda/cuda_gpu_executor.cc:937] successful NUMA node read from SysFS had negative value (-1), but there must be at least one NUMA node, so returning NUMA node zero\n",
      "2021-12-07 15:29:54.664910: I tensorflow/stream_executor/cuda/cuda_gpu_executor.cc:937] successful NUMA node read from SysFS had negative value (-1), but there must be at least one NUMA node, so returning NUMA node zero\n",
      "2021-12-07 15:29:54.666942: I tensorflow/core/common_runtime/gpu/gpu_device.cc:1510] Created device /job:localhost/replica:0/task:0/device:GPU:0 with 15403 MB memory:  -> device: 0, name: Tesla P100-PCIE-16GB, pci bus id: 0000:00:04.0, compute capability: 6.0\n",
      "2021-12-07 15:29:55.152523: W tensorflow/core/framework/cpu_allocator_impl.cc:80] Allocation of 41847600 exceeds 10% of free system memory.\n"
     ]
    },
    {
     "name": "stdout",
     "output_type": "stream",
     "text": [
      "Model: \"model\"\n",
      "__________________________________________________________________________________________________\n",
      "Layer (type)                    Output Shape         Param #     Connected to                     \n",
      "==================================================================================================\n",
      "input_1 (InputLayer)            [(None, 100)]        0                                            \n",
      "__________________________________________________________________________________________________\n",
      "input_2 (InputLayer)            [(None, 100)]        0                                            \n",
      "__________________________________________________________________________________________________\n",
      "embedding (Embedding)           (None, 100, 300)     10461900    input_1[0][0]                    \n",
      "                                                                 input_2[0][0]                    \n",
      "__________________________________________________________________________________________________\n",
      "bidirectional (Bidirectional)   (None, 100, 600)     1442400     embedding[0][0]                  \n",
      "                                                                 embedding[1][0]                  \n",
      "__________________________________________________________________________________________________\n",
      "dot (Dot)                       (None, 100, 100)     0           bidirectional[0][0]              \n",
      "                                                                 bidirectional[1][0]              \n",
      "__________________________________________________________________________________________________\n",
      "softmax (Softmax)               (None, 100, 100)     0           dot[0][0]                        \n",
      "__________________________________________________________________________________________________\n",
      "softmax_1 (Softmax)             (None, 100, 100)     0           dot[0][0]                        \n",
      "__________________________________________________________________________________________________\n",
      "lambda (Lambda)                 (None, 100, 100, 1)  0           softmax[0][0]                    \n",
      "__________________________________________________________________________________________________\n",
      "lambda_2 (Lambda)               (None, 1, 100, 600)  0           bidirectional[1][0]              \n",
      "__________________________________________________________________________________________________\n",
      "lambda_1 (Lambda)               (None, 100, 100, 1)  0           softmax_1[0][0]                  \n",
      "__________________________________________________________________________________________________\n",
      "lambda_4 (Lambda)               (None, 100, 1, 600)  0           bidirectional[0][0]              \n",
      "__________________________________________________________________________________________________\n",
      "multiply (Multiply)             (None, 100, 100, 600 0           lambda[0][0]                     \n",
      "                                                                 lambda_2[0][0]                   \n",
      "__________________________________________________________________________________________________\n",
      "multiply_1 (Multiply)           (None, 100, 100, 600 0           lambda_1[0][0]                   \n",
      "                                                                 lambda_4[0][0]                   \n",
      "__________________________________________________________________________________________________\n",
      "lambda_3 (Lambda)               (None, 100, 600)     0           multiply[0][0]                   \n",
      "__________________________________________________________________________________________________\n",
      "lambda_5 (Lambda)               (None, 100, 600)     0           multiply_1[0][0]                 \n",
      "__________________________________________________________________________________________________\n",
      "subtract (Subtract)             (None, 100, 600)     0           bidirectional[0][0]              \n",
      "                                                                 lambda_3[0][0]                   \n",
      "__________________________________________________________________________________________________\n",
      "multiply_2 (Multiply)           (None, 100, 600)     0           bidirectional[0][0]              \n",
      "                                                                 lambda_3[0][0]                   \n",
      "__________________________________________________________________________________________________\n",
      "subtract_1 (Subtract)           (None, 100, 600)     0           bidirectional[1][0]              \n",
      "                                                                 lambda_5[0][0]                   \n",
      "__________________________________________________________________________________________________\n",
      "multiply_3 (Multiply)           (None, 100, 600)     0           bidirectional[1][0]              \n",
      "                                                                 lambda_5[0][0]                   \n",
      "__________________________________________________________________________________________________\n",
      "concatenate (Concatenate)       (None, 100, 2400)    0           bidirectional[0][0]              \n",
      "                                                                 lambda_3[0][0]                   \n",
      "                                                                 subtract[0][0]                   \n",
      "                                                                 multiply_2[0][0]                 \n",
      "__________________________________________________________________________________________________\n",
      "concatenate_1 (Concatenate)     (None, 100, 2400)    0           bidirectional[1][0]              \n",
      "                                                                 lambda_5[0][0]                   \n",
      "                                                                 subtract_1[0][0]                 \n",
      "                                                                 multiply_3[0][0]                 \n",
      "__________________________________________________________________________________________________\n",
      "bidirectional_1 (Bidirectional) (None, 100, 600)     6482400     concatenate[0][0]                \n",
      "                                                                 concatenate_1[0][0]              \n",
      "__________________________________________________________________________________________________\n",
      "lambda_7 (Lambda)               (None, 600)          0           bidirectional_1[0][0]            \n",
      "__________________________________________________________________________________________________\n",
      "lambda_6 (Lambda)               (None, 600)          0           bidirectional_1[0][0]            \n",
      "__________________________________________________________________________________________________\n",
      "lambda_9 (Lambda)               (None, 600)          0           bidirectional_1[1][0]            \n",
      "__________________________________________________________________________________________________\n",
      "lambda_8 (Lambda)               (None, 600)          0           bidirectional_1[1][0]            \n",
      "__________________________________________________________________________________________________\n",
      "concatenate_2 (Concatenate)     (None, 2400)         0           lambda_7[0][0]                   \n",
      "                                                                 lambda_6[0][0]                   \n",
      "                                                                 lambda_9[0][0]                   \n",
      "                                                                 lambda_8[0][0]                   \n",
      "__________________________________________________________________________________________________\n",
      "dense (Dense)                   (None, 1024)         2458624     concatenate_2[0][0]              \n",
      "__________________________________________________________________________________________________\n",
      "dropout (Dropout)               (None, 1024)         0           dense[0][0]                      \n",
      "__________________________________________________________________________________________________\n",
      "dense_1 (Dense)                 (None, 1024)         1049600     dropout[0][0]                    \n",
      "__________________________________________________________________________________________________\n",
      "dropout_1 (Dropout)             (None, 1024)         0           dense_1[0][0]                    \n",
      "__________________________________________________________________________________________________\n",
      "dense_2 (Dense)                 (None, 3)            3075        dropout_1[0][0]                  \n",
      "==================================================================================================\n",
      "Total params: 21,897,999\n",
      "Trainable params: 11,436,099\n",
      "Non-trainable params: 10,461,900\n",
      "__________________________________________________________________________________________________\n"
     ]
    }
   ],
   "source": [
    "bilstm1 = Bidirectional(LSTM(300, return_sequences=True))\n",
    "bilstm2 = Bidirectional(LSTM(300, return_sequences=True))\n",
    "\n",
    "i1 = Input(shape=(SentenceLen,), dtype='float32')\n",
    "i2 = Input(shape=(SentenceLen,), dtype='float32')\n",
    "\n",
    "x1 = embedding_layer(i1)\n",
    "x2 = embedding_layer(i2)\n",
    "\n",
    "x1 = bilstm1(x1)\n",
    "x2 = bilstm1(x2)\n",
    "\n",
    "e = Dot(axes=2)([x1, x2])\n",
    "e1 = Softmax(axis=2)(e)\n",
    "e2 = Softmax(axis=1)(e)\n",
    "e1 = Lambda(K.expand_dims, arguments={'axis' : 3})(e1)\n",
    "e2 = Lambda(K.expand_dims, arguments={'axis' : 3})(e2)\n",
    "\n",
    "_x1 = Lambda(K.expand_dims, arguments={'axis' : 1})(x2)\n",
    "_x1 = Multiply()([e1, _x1])\n",
    "_x1 = Lambda(K.sum, arguments={'axis' : 2})(_x1)\n",
    "_x2 = Lambda(K.expand_dims, arguments={'axis' : 2})(x1)\n",
    "_x2 = Multiply()([e2, _x2])\n",
    "_x2 = Lambda(K.sum, arguments={'axis' : 1})(_x2)\n",
    "\n",
    "m1 = Concatenate()([x1, _x1, Subtract()([x1, _x1]), Multiply()([x1, _x1])])\n",
    "m2 = Concatenate()([x2, _x2, Subtract()([x2, _x2]), Multiply()([x2, _x2])])\n",
    "\n",
    "y1 = bilstm2(m1)\n",
    "y2 = bilstm2(m2)\n",
    "\n",
    "mx1 = Lambda(K.max, arguments={'axis' : 1})(y1)\n",
    "av1 = Lambda(K.mean, arguments={'axis' : 1})(y1)\n",
    "mx2 = Lambda(K.max, arguments={'axis' : 1})(y2)\n",
    "av2 = Lambda(K.mean, arguments={'axis' : 1})(y2)\n",
    "\n",
    "y = Concatenate()([av1, mx1, av2, mx2])\n",
    "y = Dense(1024, activation='tanh')(y)\n",
    "y = Dropout(0.5)(y)\n",
    "y = Dense(1024, activation='tanh')(y)\n",
    "y = Dropout(0.5)(y)\n",
    "y = Dense(3, activation='softmax')(y)\n",
    "\n",
    "model = Model(inputs=[i1, i2], outputs=y)\n",
    "model.summary()"
   ]
  },
  {
   "cell_type": "code",
   "execution_count": 11,
   "id": "8e32eeb5",
   "metadata": {
    "execution": {
     "iopub.execute_input": "2021-12-07T15:29:58.217791Z",
     "iopub.status.busy": "2021-12-07T15:29:58.216020Z",
     "iopub.status.idle": "2021-12-07T15:29:58.224980Z",
     "shell.execute_reply": "2021-12-07T15:29:58.223943Z",
     "shell.execute_reply.started": "2021-12-07T14:21:22.221866Z"
    },
    "papermill": {
     "duration": 0.118194,
     "end_time": "2021-12-07T15:29:58.225135",
     "exception": false,
     "start_time": "2021-12-07T15:29:58.106941",
     "status": "completed"
    },
    "tags": []
   },
   "outputs": [],
   "source": [
    "model.compile(loss='categorical_crossentropy', optimizer='adam', metrics=['accuracy'])"
   ]
  },
  {
   "cell_type": "code",
   "execution_count": 12,
   "id": "1134ec69",
   "metadata": {
    "execution": {
     "iopub.execute_input": "2021-12-07T15:29:58.412909Z",
     "iopub.status.busy": "2021-12-07T15:29:58.411773Z",
     "iopub.status.idle": "2021-12-07T23:25:45.450872Z",
     "shell.execute_reply": "2021-12-07T23:25:45.449864Z"
    },
    "papermill": {
     "duration": 28547.136393,
     "end_time": "2021-12-07T23:25:45.451067",
     "exception": false,
     "start_time": "2021-12-07T15:29:58.314674",
     "status": "completed"
    },
    "tags": []
   },
   "outputs": [
    {
     "name": "stderr",
     "output_type": "stream",
     "text": [
      "2021-12-07 15:29:58.412124: W tensorflow/core/framework/cpu_allocator_impl.cc:80] Allocation of 219746800 exceeds 10% of free system memory.\n",
      "2021-12-07 15:29:58.585609: W tensorflow/core/framework/cpu_allocator_impl.cc:80] Allocation of 219746800 exceeds 10% of free system memory.\n",
      "2021-12-07 15:29:58.858609: I tensorflow/compiler/mlir/mlir_graph_optimization_pass.cc:185] None of the MLIR Optimization Passes are enabled (registered 2)\n"
     ]
    },
    {
     "name": "stdout",
     "output_type": "stream",
     "text": [
      "Epoch 1/10\n"
     ]
    },
    {
     "name": "stderr",
     "output_type": "stream",
     "text": [
      "2021-12-07 15:30:12.812115: I tensorflow/stream_executor/cuda/cuda_dnn.cc:369] Loaded cuDNN version 8005\n"
     ]
    },
    {
     "name": "stdout",
     "output_type": "stream",
     "text": [
      "17168/17168 [==============================] - 2872s 166ms/step - loss: 0.9332 - accuracy: 0.5512 - val_loss: 0.8794 - val_accuracy: 0.5966\n",
      "Epoch 2/10\n",
      "17168/17168 [==============================] - 2854s 166ms/step - loss: 0.8845 - accuracy: 0.5857 - val_loss: 0.8679 - val_accuracy: 0.6056\n",
      "Epoch 3/10\n",
      "17168/17168 [==============================] - 2856s 166ms/step - loss: 0.8708 - accuracy: 0.5936 - val_loss: 0.8514 - val_accuracy: 0.6062\n",
      "Epoch 4/10\n",
      "17168/17168 [==============================] - 2855s 166ms/step - loss: 0.8622 - accuracy: 0.5992 - val_loss: 0.8585 - val_accuracy: 0.6100\n",
      "Epoch 5/10\n",
      "17168/17168 [==============================] - 2855s 166ms/step - loss: 0.8545 - accuracy: 0.6039 - val_loss: 0.8497 - val_accuracy: 0.6062\n",
      "Epoch 6/10\n",
      "17168/17168 [==============================] - 2854s 166ms/step - loss: 0.8479 - accuracy: 0.6069 - val_loss: 0.8551 - val_accuracy: 0.6121\n",
      "Epoch 7/10\n",
      "17168/17168 [==============================] - 2856s 166ms/step - loss: 0.8426 - accuracy: 0.6101 - val_loss: 0.8485 - val_accuracy: 0.6145\n",
      "Epoch 8/10\n",
      "17168/17168 [==============================] - 2847s 166ms/step - loss: 0.8376 - accuracy: 0.6137 - val_loss: 0.8686 - val_accuracy: 0.6085\n",
      "Epoch 9/10\n",
      "17168/17168 [==============================] - 2847s 166ms/step - loss: 0.8320 - accuracy: 0.6161 - val_loss: 0.8524 - val_accuracy: 0.6096\n",
      "Epoch 10/10\n",
      "17168/17168 [==============================] - 2852s 166ms/step - loss: 0.8263 - accuracy: 0.6197 - val_loss: 0.8540 - val_accuracy: 0.6151\n"
     ]
    }
   ],
   "source": [
    "history = model.fit(train_x, train_y, epochs=10, validation_data=(dev_x, dev_y))"
   ]
  },
  {
   "cell_type": "code",
   "execution_count": 13,
   "id": "cf065669",
   "metadata": {
    "execution": {
     "iopub.execute_input": "2021-12-07T23:27:42.371412Z",
     "iopub.status.busy": "2021-12-07T23:27:42.369842Z",
     "iopub.status.idle": "2021-12-07T23:28:05.593121Z",
     "shell.execute_reply": "2021-12-07T23:28:05.592597Z"
    },
    "papermill": {
     "duration": 81.782547,
     "end_time": "2021-12-07T23:28:05.593299",
     "exception": false,
     "start_time": "2021-12-07T23:26:43.810752",
     "status": "completed"
    },
    "tags": []
   },
   "outputs": [
    {
     "name": "stdout",
     "output_type": "stream",
     "text": [
      "307/307 [==============================] - 22s 63ms/step - loss: 0.8461 - accuracy: 0.6170\n",
      "Test loss :  0.8461464643478394\n",
      "Test accuracy :  0.6169584393501282\n"
     ]
    }
   ],
   "source": [
    "score = model.evaluate(test_x, test_y, verbose=1)\n",
    "print('Test loss : ', score[0])\n",
    "print('Test accuracy : ', score[1])"
   ]
  },
  {
   "cell_type": "code",
   "execution_count": 14,
   "id": "6ae62d78",
   "metadata": {
    "execution": {
     "iopub.execute_input": "2021-12-07T23:30:03.255415Z",
     "iopub.status.busy": "2021-12-07T23:30:03.254420Z",
     "iopub.status.idle": "2021-12-07T23:30:03.482109Z",
     "shell.execute_reply": "2021-12-07T23:30:03.482657Z"
    },
    "papermill": {
     "duration": 58.100511,
     "end_time": "2021-12-07T23:30:03.482873",
     "exception": false,
     "start_time": "2021-12-07T23:29:05.382362",
     "status": "completed"
    },
    "tags": []
   },
   "outputs": [
    {
     "name": "stderr",
     "output_type": "stream",
     "text": [
      "2021-12-07 23:30:03.366198: W tensorflow/core/framework/cpu_allocator_impl.cc:80] Allocation of 41847600 exceeds 10% of free system memory.\n"
     ]
    }
   ],
   "source": [
    "model.save_weights('NLI.h5')"
   ]
  }
 ],
 "metadata": {
  "kernelspec": {
   "display_name": "Python 3",
   "language": "python",
   "name": "python3"
  },
  "language_info": {
   "codemirror_mode": {
    "name": "ipython",
    "version": 3
   },
   "file_extension": ".py",
   "mimetype": "text/x-python",
   "name": "python",
   "nbconvert_exporter": "python",
   "pygments_lexer": "ipython3",
   "version": "3.7.12"
  },
  "papermill": {
   "default_parameters": {},
   "duration": 29307.367497,
   "end_time": "2021-12-07T23:31:05.319004",
   "environment_variables": {},
   "exception": null,
   "input_path": "__notebook__.ipynb",
   "output_path": "__notebook__.ipynb",
   "parameters": {},
   "start_time": "2021-12-07T15:22:37.951507",
   "version": "2.3.3"
  }
 },
 "nbformat": 4,
 "nbformat_minor": 5
}
